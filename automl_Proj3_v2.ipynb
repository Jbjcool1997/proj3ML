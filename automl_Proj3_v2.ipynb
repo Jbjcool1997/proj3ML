{
  "cells": [
    {
      "cell_type": "markdown",
      "metadata": {},
      "source": [
        "# Automated ML\n",
        "\n",
        "TODO: Import Dependencies. In the cell below, import all the dependencies that you will need to complete the project."
      ]
    },
    {
      "cell_type": "code",
      "execution_count": 35,
      "metadata": {
        "gather": {
          "logged": 1747654162748
        }
      },
      "outputs": [
        {
          "name": "stdout",
          "output_type": "stream",
          "text": [
            "Requirement already satisfied: azureml-sdk==1.59.0 in /anaconda/envs/automl-env/lib/python3.9/site-packages (1.59.0)\n",
            "Requirement already satisfied: azureml-core~=1.59.0 in /anaconda/envs/automl-env/lib/python3.9/site-packages (from azureml-sdk==1.59.0) (1.59.0.post2)\n",
            "Requirement already satisfied: azureml-dataset-runtime~=1.59.0 in /anaconda/envs/automl-env/lib/python3.9/site-packages (from azureml-dataset-runtime[fuse]~=1.59.0->azureml-sdk==1.59.0) (1.59.0)\n",
            "Requirement already satisfied: azureml-train-core~=1.59.0 in /anaconda/envs/automl-env/lib/python3.9/site-packages (from azureml-sdk==1.59.0) (1.59.0)\n",
            "Requirement already satisfied: azureml-train-automl-client~=1.59.0 in /anaconda/envs/automl-env/lib/python3.9/site-packages (from azureml-sdk==1.59.0) (1.59.0)\n",
            "Requirement already satisfied: azureml-pipeline~=1.59.0 in /anaconda/envs/automl-env/lib/python3.9/site-packages (from azureml-sdk==1.59.0) (1.59.0)\n",
            "Requirement already satisfied: pytz in /anaconda/envs/automl-env/lib/python3.9/site-packages (from azureml-core~=1.59.0->azureml-sdk==1.59.0) (2025.2)\n",
            "Requirement already satisfied: backports.tempfile in /anaconda/envs/automl-env/lib/python3.9/site-packages (from azureml-core~=1.59.0->azureml-sdk==1.59.0) (1.0)\n",
            "Requirement already satisfied: pathspec<1.0.0 in /anaconda/envs/automl-env/lib/python3.9/site-packages (from azureml-core~=1.59.0->azureml-sdk==1.59.0) (0.12.1)\n",
            "Requirement already satisfied: requests<3.0.0,>=2.19.1 in /anaconda/envs/automl-env/lib/python3.9/site-packages (from requests[socks]<3.0.0,>=2.19.1->azureml-core~=1.59.0->azureml-sdk==1.59.0) (2.32.3)\n",
            "Requirement already satisfied: msal<2.0.0,>=1.15.0 in /anaconda/envs/automl-env/lib/python3.9/site-packages (from azureml-core~=1.59.0->azureml-sdk==1.59.0) (1.32.3)\n",
            "Requirement already satisfied: msal-extensions<=2.0.0,>=0.3.0 in /anaconda/envs/automl-env/lib/python3.9/site-packages (from azureml-core~=1.59.0->azureml-sdk==1.59.0) (1.3.1)\n",
            "Requirement already satisfied: knack<0.13.0 in /anaconda/envs/automl-env/lib/python3.9/site-packages (from azureml-core~=1.59.0->azureml-sdk==1.59.0) (0.12.0)\n",
            "Requirement already satisfied: azure-core<2.0.0 in /anaconda/envs/automl-env/lib/python3.9/site-packages (from azureml-core~=1.59.0->azureml-sdk==1.59.0) (1.34.0)\n",
            "Requirement already satisfied: pkginfo in /anaconda/envs/automl-env/lib/python3.9/site-packages (from azureml-core~=1.59.0->azureml-sdk==1.59.0) (1.12.1.2)\n",
            "Requirement already satisfied: argcomplete<4 in /anaconda/envs/automl-env/lib/python3.9/site-packages (from azureml-core~=1.59.0->azureml-sdk==1.59.0) (3.6.2)\n",
            "Requirement already satisfied: humanfriendly<11.0,>=4.7 in /anaconda/envs/automl-env/lib/python3.9/site-packages (from azureml-core~=1.59.0->azureml-sdk==1.59.0) (10.0)\n",
            "Requirement already satisfied: paramiko<4.0.0,>=2.0.8 in /anaconda/envs/automl-env/lib/python3.9/site-packages (from azureml-core~=1.59.0->azureml-sdk==1.59.0) (3.5.1)\n",
            "Requirement already satisfied: azure-mgmt-resource<=24.0.0,>=15.0.0 in /anaconda/envs/automl-env/lib/python3.9/site-packages (from azureml-core~=1.59.0->azureml-sdk==1.59.0) (23.3.0)\n",
            "Requirement already satisfied: azure-mgmt-containerregistry<11,>=8.2.0 in /anaconda/envs/automl-env/lib/python3.9/site-packages (from azureml-core~=1.59.0->azureml-sdk==1.59.0) (10.3.0)\n",
            "Requirement already satisfied: azure-mgmt-storage<=22.0.0,>=16.0.0 in /anaconda/envs/automl-env/lib/python3.9/site-packages (from azureml-core~=1.59.0->azureml-sdk==1.59.0) (22.0.0)\n",
            "Requirement already satisfied: azure-mgmt-keyvault<11.0.0,>=0.40.0 in /anaconda/envs/automl-env/lib/python3.9/site-packages (from azureml-core~=1.59.0->azureml-sdk==1.59.0) (10.3.1)\n",
            "Requirement already satisfied: azure-mgmt-authorization<5,>=0.40.0 in /anaconda/envs/automl-env/lib/python3.9/site-packages (from azureml-core~=1.59.0->azureml-sdk==1.59.0) (4.0.0)\n",
            "Requirement already satisfied: azure-mgmt-network<=29.0.0 in /anaconda/envs/automl-env/lib/python3.9/site-packages (from azureml-core~=1.59.0->azureml-sdk==1.59.0) (28.1.0)\n",
            "Requirement already satisfied: azure-graphrbac<1.0.0,>=0.40.0 in /anaconda/envs/automl-env/lib/python3.9/site-packages (from azureml-core~=1.59.0->azureml-sdk==1.59.0) (0.61.2)\n",
            "Requirement already satisfied: azure-common<2.0.0,>=1.1.12 in /anaconda/envs/automl-env/lib/python3.9/site-packages (from azureml-core~=1.59.0->azureml-sdk==1.59.0) (1.1.28)\n",
            "Requirement already satisfied: msrest<=0.7.1,>=0.5.1 in /anaconda/envs/automl-env/lib/python3.9/site-packages (from azureml-core~=1.59.0->azureml-sdk==1.59.0) (0.7.1)\n",
            "Requirement already satisfied: msrestazure<=0.7,>=0.4.33 in /anaconda/envs/automl-env/lib/python3.9/site-packages (from azureml-core~=1.59.0->azureml-sdk==1.59.0) (0.6.4.post1)\n",
            "Requirement already satisfied: urllib3<3.0.0,>1.26.17 in /anaconda/envs/automl-env/lib/python3.9/site-packages (from azureml-core~=1.59.0->azureml-sdk==1.59.0) (1.26.20)\n",
            "Requirement already satisfied: packaging<=25.0,>=20.0 in /anaconda/envs/automl-env/lib/python3.9/site-packages (from azureml-core~=1.59.0->azureml-sdk==1.59.0) (24.2)\n",
            "Requirement already satisfied: python-dateutil<3.0.0,>=2.7.3 in /anaconda/envs/automl-env/lib/python3.9/site-packages (from azureml-core~=1.59.0->azureml-sdk==1.59.0) (2.9.0.post0)\n",
            "Requirement already satisfied: ndg-httpsclient<=0.5.1 in /anaconda/envs/automl-env/lib/python3.9/site-packages (from azureml-core~=1.59.0->azureml-sdk==1.59.0) (0.5.1)\n",
            "Requirement already satisfied: SecretStorage<4.0.0 in /anaconda/envs/automl-env/lib/python3.9/site-packages (from azureml-core~=1.59.0->azureml-sdk==1.59.0) (3.3.3)\n",
            "Requirement already satisfied: jsonpickle<5.0.0 in /anaconda/envs/automl-env/lib/python3.9/site-packages (from azureml-core~=1.59.0->azureml-sdk==1.59.0) (4.0.5)\n",
            "Requirement already satisfied: contextlib2<22.0.0 in /anaconda/envs/automl-env/lib/python3.9/site-packages (from azureml-core~=1.59.0->azureml-sdk==1.59.0) (21.6.0)\n",
            "Requirement already satisfied: docker<8.0.0 in /anaconda/envs/automl-env/lib/python3.9/site-packages (from azureml-core~=1.59.0->azureml-sdk==1.59.0) (7.1.0)\n",
            "Requirement already satisfied: PyJWT<3.0.0 in /anaconda/envs/automl-env/lib/python3.9/site-packages (from azureml-core~=1.59.0->azureml-sdk==1.59.0) (2.10.1)\n",
            "Requirement already satisfied: adal<=1.2.7,>=1.2.0 in /anaconda/envs/automl-env/lib/python3.9/site-packages (from azureml-core~=1.59.0->azureml-sdk==1.59.0) (1.2.7)\n",
            "Requirement already satisfied: pyopenssl<25.0.0 in /anaconda/envs/automl-env/lib/python3.9/site-packages (from azureml-core~=1.59.0->azureml-sdk==1.59.0) (24.3.0)\n",
            "Requirement already satisfied: jmespath<2.0.0 in /anaconda/envs/automl-env/lib/python3.9/site-packages (from azureml-core~=1.59.0->azureml-sdk==1.59.0) (0.10.0)\n",
            "Requirement already satisfied: cryptography>=1.1.0 in /anaconda/envs/automl-env/lib/python3.9/site-packages (from adal<=1.2.7,>=1.2.0->azureml-core~=1.59.0->azureml-sdk==1.59.0) (44.0.3)\n",
            "Requirement already satisfied: six>=1.11.0 in /anaconda/envs/automl-env/lib/python3.9/site-packages (from azure-core<2.0.0->azureml-core~=1.59.0->azureml-sdk==1.59.0) (1.17.0)\n",
            "Requirement already satisfied: typing-extensions>=4.6.0 in /anaconda/envs/automl-env/lib/python3.9/site-packages (from azure-core<2.0.0->azureml-core~=1.59.0->azureml-sdk==1.59.0) (4.13.2)\n",
            "Requirement already satisfied: isodate<1.0.0,>=0.6.1 in /anaconda/envs/automl-env/lib/python3.9/site-packages (from azure-mgmt-authorization<5,>=0.40.0->azureml-core~=1.59.0->azureml-sdk==1.59.0) (0.7.2)\n",
            "Requirement already satisfied: azure-mgmt-core<2.0.0,>=1.3.2 in /anaconda/envs/automl-env/lib/python3.9/site-packages (from azure-mgmt-authorization<5,>=0.40.0->azureml-core~=1.59.0->azureml-sdk==1.59.0) (1.5.0)\n",
            "Requirement already satisfied: azureml-dataprep<5.2.0a,>=5.1.0a in /anaconda/envs/automl-env/lib/python3.9/site-packages (from azureml-dataset-runtime~=1.59.0->azureml-dataset-runtime[fuse]~=1.59.0->azureml-sdk==1.59.0) (5.1.6)\n",
            "Requirement already satisfied: pyarrow>=0.17.0 in /anaconda/envs/automl-env/lib/python3.9/site-packages (from azureml-dataset-runtime~=1.59.0->azureml-dataset-runtime[fuse]~=1.59.0->azureml-sdk==1.59.0) (14.0.2)\n",
            "Requirement already satisfied: numpy!=1.19.3,<1.24 in /anaconda/envs/automl-env/lib/python3.9/site-packages (from azureml-dataset-runtime~=1.59.0->azureml-dataset-runtime[fuse]~=1.59.0->azureml-sdk==1.59.0) (1.23.5)\n",
            "Requirement already satisfied: azureml-dataprep-native<42.0.0,>=41.0.0 in /anaconda/envs/automl-env/lib/python3.9/site-packages (from azureml-dataprep<5.2.0a,>=5.1.0a->azureml-dataset-runtime~=1.59.0->azureml-dataset-runtime[fuse]~=1.59.0->azureml-sdk==1.59.0) (41.0.0)\n",
            "Requirement already satisfied: azureml-dataprep-rslex~=2.22.2dev0 in /anaconda/envs/automl-env/lib/python3.9/site-packages (from azureml-dataprep<5.2.0a,>=5.1.0a->azureml-dataset-runtime~=1.59.0->azureml-dataset-runtime[fuse]~=1.59.0->azureml-sdk==1.59.0) (2.22.5)\n",
            "Requirement already satisfied: cloudpickle<3.0.0,>=1.1.0 in /anaconda/envs/automl-env/lib/python3.9/site-packages (from azureml-dataprep<5.2.0a,>=5.1.0a->azureml-dataset-runtime~=1.59.0->azureml-dataset-runtime[fuse]~=1.59.0->azureml-sdk==1.59.0) (2.2.1)\n",
            "Requirement already satisfied: azure-identity>=1.7.0 in /anaconda/envs/automl-env/lib/python3.9/site-packages (from azureml-dataprep<5.2.0a,>=5.1.0a->azureml-dataset-runtime~=1.59.0->azureml-dataset-runtime[fuse]~=1.59.0->azureml-sdk==1.59.0) (1.23.0)\n",
            "Requirement already satisfied: jsonschema in /anaconda/envs/automl-env/lib/python3.9/site-packages (from azureml-dataprep<5.2.0a,>=5.1.0a->azureml-dataset-runtime~=1.59.0->azureml-dataset-runtime[fuse]~=1.59.0->azureml-sdk==1.59.0) (4.23.0)\n",
            "Requirement already satisfied: pyyaml<7.0.0,>=5.1.0 in /anaconda/envs/automl-env/lib/python3.9/site-packages (from azureml-dataprep<5.2.0a,>=5.1.0a->azureml-dataset-runtime~=1.59.0->azureml-dataset-runtime[fuse]~=1.59.0->azureml-sdk==1.59.0) (6.0.2)\n",
            "Requirement already satisfied: fusepy<4.0.0,>=3.0.1 in /anaconda/envs/automl-env/lib/python3.9/site-packages (from azureml-dataset-runtime[fuse]~=1.59.0->azureml-sdk==1.59.0) (3.0.1)\n",
            "Requirement already satisfied: azureml-pipeline-core~=1.59.0 in /anaconda/envs/automl-env/lib/python3.9/site-packages (from azureml-pipeline~=1.59.0->azureml-sdk==1.59.0) (1.59.0)\n",
            "Requirement already satisfied: azureml-pipeline-steps~=1.59.0 in /anaconda/envs/automl-env/lib/python3.9/site-packages (from azureml-pipeline~=1.59.0->azureml-sdk==1.59.0) (1.59.0)\n",
            "Requirement already satisfied: azureml-automl-core~=1.59.0 in /anaconda/envs/automl-env/lib/python3.9/site-packages (from azureml-train-automl-client~=1.59.0->azureml-sdk==1.59.0) (1.59.0)\n",
            "Requirement already satisfied: azureml-telemetry~=1.59.0 in /anaconda/envs/automl-env/lib/python3.9/site-packages (from azureml-train-automl-client~=1.59.0->azureml-sdk==1.59.0) (1.59.0)\n",
            "Requirement already satisfied: importlib-metadata<=8.2.0 in /anaconda/envs/automl-env/lib/python3.9/site-packages (from azureml-automl-core~=1.59.0->azureml-train-automl-client~=1.59.0->azureml-sdk==1.59.0) (8.2.0)\n",
            "Requirement already satisfied: importlib-resources<=6.4.0 in /anaconda/envs/automl-env/lib/python3.9/site-packages (from azureml-automl-core~=1.59.0->azureml-train-automl-client~=1.59.0->azureml-sdk==1.59.0) (6.4.0)\n",
            "Requirement already satisfied: applicationinsights in /anaconda/envs/automl-env/lib/python3.9/site-packages (from azureml-telemetry~=1.59.0->azureml-train-automl-client~=1.59.0->azureml-sdk==1.59.0) (0.11.10)\n",
            "Requirement already satisfied: azureml-train-restclients-hyperdrive~=1.59.0 in /anaconda/envs/automl-env/lib/python3.9/site-packages (from azureml-train-core~=1.59.0->azureml-sdk==1.59.0) (1.59.0)\n",
            "Requirement already satisfied: zipp>=0.5 in /anaconda/envs/automl-env/lib/python3.9/site-packages (from importlib-metadata<=8.2.0->azureml-automl-core~=1.59.0->azureml-train-automl-client~=1.59.0->azureml-sdk==1.59.0) (3.21.0)\n",
            "Requirement already satisfied: pygments in /anaconda/envs/automl-env/lib/python3.9/site-packages (from knack<0.13.0->azureml-core~=1.59.0->azureml-sdk==1.59.0) (2.19.1)\n",
            "Requirement already satisfied: tabulate in /anaconda/envs/automl-env/lib/python3.9/site-packages (from knack<0.13.0->azureml-core~=1.59.0->azureml-sdk==1.59.0) (0.9.0)\n",
            "Requirement already satisfied: cffi>=1.12 in /anaconda/envs/automl-env/lib/python3.9/site-packages (from cryptography>=1.1.0->adal<=1.2.7,>=1.2.0->azureml-core~=1.59.0->azureml-sdk==1.59.0) (1.17.1)\n",
            "Requirement already satisfied: certifi>=2017.4.17 in /anaconda/envs/automl-env/lib/python3.9/site-packages (from msrest<=0.7.1,>=0.5.1->azureml-core~=1.59.0->azureml-sdk==1.59.0) (2025.4.26)\n",
            "Requirement already satisfied: requests-oauthlib>=0.5.0 in /anaconda/envs/automl-env/lib/python3.9/site-packages (from msrest<=0.7.1,>=0.5.1->azureml-core~=1.59.0->azureml-sdk==1.59.0) (2.0.0)\n",
            "Requirement already satisfied: pyasn1>=0.1.1 in /anaconda/envs/automl-env/lib/python3.9/site-packages (from ndg-httpsclient<=0.5.1->azureml-core~=1.59.0->azureml-sdk==1.59.0) (0.6.1)\n",
            "Requirement already satisfied: bcrypt>=3.2 in /anaconda/envs/automl-env/lib/python3.9/site-packages (from paramiko<4.0.0,>=2.0.8->azureml-core~=1.59.0->azureml-sdk==1.59.0) (4.3.0)\n",
            "Requirement already satisfied: pynacl>=1.5 in /anaconda/envs/automl-env/lib/python3.9/site-packages (from paramiko<4.0.0,>=2.0.8->azureml-core~=1.59.0->azureml-sdk==1.59.0) (1.5.0)\n",
            "Requirement already satisfied: charset-normalizer<4,>=2 in /anaconda/envs/automl-env/lib/python3.9/site-packages (from requests<3.0.0,>=2.19.1->requests[socks]<3.0.0,>=2.19.1->azureml-core~=1.59.0->azureml-sdk==1.59.0) (3.4.2)\n",
            "Requirement already satisfied: idna<4,>=2.5 in /anaconda/envs/automl-env/lib/python3.9/site-packages (from requests<3.0.0,>=2.19.1->requests[socks]<3.0.0,>=2.19.1->azureml-core~=1.59.0->azureml-sdk==1.59.0) (3.10)\n",
            "Requirement already satisfied: PySocks!=1.5.7,>=1.5.6 in /anaconda/envs/automl-env/lib/python3.9/site-packages (from requests[socks]<3.0.0,>=2.19.1->azureml-core~=1.59.0->azureml-sdk==1.59.0) (1.7.1)\n",
            "Requirement already satisfied: jeepney>=0.6 in /anaconda/envs/automl-env/lib/python3.9/site-packages (from SecretStorage<4.0.0->azureml-core~=1.59.0->azureml-sdk==1.59.0) (0.9.0)\n",
            "Requirement already satisfied: pycparser in /anaconda/envs/automl-env/lib/python3.9/site-packages (from cffi>=1.12->cryptography>=1.1.0->adal<=1.2.7,>=1.2.0->azureml-core~=1.59.0->azureml-sdk==1.59.0) (2.22)\n",
            "Requirement already satisfied: oauthlib>=3.0.0 in /anaconda/envs/automl-env/lib/python3.9/site-packages (from requests-oauthlib>=0.5.0->msrest<=0.7.1,>=0.5.1->azureml-core~=1.59.0->azureml-sdk==1.59.0) (3.2.2)\n",
            "Requirement already satisfied: backports.weakref in /anaconda/envs/automl-env/lib/python3.9/site-packages (from backports.tempfile->azureml-core~=1.59.0->azureml-sdk==1.59.0) (1.0.post1)\n",
            "Requirement already satisfied: attrs>=22.2.0 in /anaconda/envs/automl-env/lib/python3.9/site-packages (from jsonschema->azureml-dataprep<5.2.0a,>=5.1.0a->azureml-dataset-runtime~=1.59.0->azureml-dataset-runtime[fuse]~=1.59.0->azureml-sdk==1.59.0) (25.3.0)\n",
            "Requirement already satisfied: jsonschema-specifications>=2023.03.6 in /anaconda/envs/automl-env/lib/python3.9/site-packages (from jsonschema->azureml-dataprep<5.2.0a,>=5.1.0a->azureml-dataset-runtime~=1.59.0->azureml-dataset-runtime[fuse]~=1.59.0->azureml-sdk==1.59.0) (2025.4.1)\n",
            "Requirement already satisfied: referencing>=0.28.4 in /anaconda/envs/automl-env/lib/python3.9/site-packages (from jsonschema->azureml-dataprep<5.2.0a,>=5.1.0a->azureml-dataset-runtime~=1.59.0->azureml-dataset-runtime[fuse]~=1.59.0->azureml-sdk==1.59.0) (0.36.2)\n",
            "Requirement already satisfied: rpds-py>=0.7.1 in /anaconda/envs/automl-env/lib/python3.9/site-packages (from jsonschema->azureml-dataprep<5.2.0a,>=5.1.0a->azureml-dataset-runtime~=1.59.0->azureml-dataset-runtime[fuse]~=1.59.0->azureml-sdk==1.59.0) (0.25.0)\n",
            "Note: you may need to restart the kernel to use updated packages.\n"
          ]
        }
      ],
      "source": [
        "pip install azureml-sdk==1.59.0"
      ]
    },
    {
      "cell_type": "code",
      "execution_count": 36,
      "metadata": {
        "gather": {
          "logged": 1747654163614
        }
      },
      "outputs": [
        {
          "name": "stdout",
          "output_type": "stream",
          "text": [
            "Name: azureml-sdk\r\n",
            "Version: 1.59.0\r\n",
            "Summary: Used to build and run machine learning workflows upon the     Azure Machine Learning service.\r\n",
            "Home-page: https://docs.microsoft.com/python/api/overview/azure/ml/?view=azure-ml-py\r\n",
            "Author: Microsoft Corp\r\n",
            "Author-email: \r\n",
            "License: https://aka.ms/azureml-sdk-license\r\n",
            "Location: /anaconda/envs/automl-env/lib/python3.9/site-packages\r\n",
            "Requires: azureml-core, azureml-dataset-runtime, azureml-pipeline, azureml-train-automl-client, azureml-train-core\r\n",
            "Required-by: \r\n",
            "Note: you may need to restart the kernel to use updated packages.\n"
          ]
        }
      ],
      "source": [
        "pip show azureml-sdk"
      ]
    },
    {
      "cell_type": "code",
      "execution_count": 37,
      "metadata": {
        "gather": {
          "logged": 1747654165357
        }
      },
      "outputs": [
        {
          "name": "stdout",
          "output_type": "stream",
          "text": [
            "Requirement already satisfied: azureml-sdk[notebooks] in /anaconda/envs/automl-env/lib/python3.9/site-packages (1.59.0)\n",
            "Requirement already satisfied: azureml-core~=1.59.0 in /anaconda/envs/automl-env/lib/python3.9/site-packages (from azureml-sdk[notebooks]) (1.59.0.post2)\n",
            "Requirement already satisfied: azureml-dataset-runtime~=1.59.0 in /anaconda/envs/automl-env/lib/python3.9/site-packages (from azureml-dataset-runtime[fuse]~=1.59.0->azureml-sdk[notebooks]) (1.59.0)\n",
            "Requirement already satisfied: azureml-train-core~=1.59.0 in /anaconda/envs/automl-env/lib/python3.9/site-packages (from azureml-sdk[notebooks]) (1.59.0)\n",
            "Requirement already satisfied: azureml-train-automl-client~=1.59.0 in /anaconda/envs/automl-env/lib/python3.9/site-packages (from azureml-sdk[notebooks]) (1.59.0)\n",
            "Requirement already satisfied: azureml-pipeline~=1.59.0 in /anaconda/envs/automl-env/lib/python3.9/site-packages (from azureml-sdk[notebooks]) (1.59.0)\n",
            "Requirement already satisfied: azureml-widgets~=1.59.0 in /anaconda/envs/automl-env/lib/python3.9/site-packages (from azureml-sdk[notebooks]) (1.59.0)\n",
            "Requirement already satisfied: azureml-contrib-notebook~=1.59.0 in /anaconda/envs/automl-env/lib/python3.9/site-packages (from azureml-sdk[notebooks]) (1.59.0)\n",
            "Requirement already satisfied: azureml-pipeline-core~=1.59.0 in /anaconda/envs/automl-env/lib/python3.9/site-packages (from azureml-contrib-notebook~=1.59.0->azureml-sdk[notebooks]) (1.59.0)\n",
            "Requirement already satisfied: ipython in /anaconda/envs/automl-env/lib/python3.9/site-packages (from azureml-contrib-notebook~=1.59.0->azureml-sdk[notebooks]) (8.18.1)\n",
            "Requirement already satisfied: nbconvert<8 in /anaconda/envs/automl-env/lib/python3.9/site-packages (from azureml-contrib-notebook~=1.59.0->azureml-sdk[notebooks]) (7.16.6)\n",
            "Requirement already satisfied: papermill<3 in /anaconda/envs/automl-env/lib/python3.9/site-packages (from azureml-contrib-notebook~=1.59.0->azureml-sdk[notebooks]) (2.6.0)\n",
            "Requirement already satisfied: jupyter-client<8 in /anaconda/envs/automl-env/lib/python3.9/site-packages (from azureml-contrib-notebook~=1.59.0->azureml-sdk[notebooks]) (7.4.9)\n",
            "Requirement already satisfied: ipykernel in /anaconda/envs/automl-env/lib/python3.9/site-packages (from azureml-contrib-notebook~=1.59.0->azureml-sdk[notebooks]) (6.29.5)\n",
            "Requirement already satisfied: pytz in /anaconda/envs/automl-env/lib/python3.9/site-packages (from azureml-core~=1.59.0->azureml-sdk[notebooks]) (2025.2)\n",
            "Requirement already satisfied: backports.tempfile in /anaconda/envs/automl-env/lib/python3.9/site-packages (from azureml-core~=1.59.0->azureml-sdk[notebooks]) (1.0)\n",
            "Requirement already satisfied: pathspec<1.0.0 in /anaconda/envs/automl-env/lib/python3.9/site-packages (from azureml-core~=1.59.0->azureml-sdk[notebooks]) (0.12.1)\n",
            "Requirement already satisfied: requests<3.0.0,>=2.19.1 in /anaconda/envs/automl-env/lib/python3.9/site-packages (from requests[socks]<3.0.0,>=2.19.1->azureml-core~=1.59.0->azureml-sdk[notebooks]) (2.32.3)\n",
            "Requirement already satisfied: msal<2.0.0,>=1.15.0 in /anaconda/envs/automl-env/lib/python3.9/site-packages (from azureml-core~=1.59.0->azureml-sdk[notebooks]) (1.32.3)\n",
            "Requirement already satisfied: msal-extensions<=2.0.0,>=0.3.0 in /anaconda/envs/automl-env/lib/python3.9/site-packages (from azureml-core~=1.59.0->azureml-sdk[notebooks]) (1.3.1)\n",
            "Requirement already satisfied: knack<0.13.0 in /anaconda/envs/automl-env/lib/python3.9/site-packages (from azureml-core~=1.59.0->azureml-sdk[notebooks]) (0.12.0)\n",
            "Requirement already satisfied: azure-core<2.0.0 in /anaconda/envs/automl-env/lib/python3.9/site-packages (from azureml-core~=1.59.0->azureml-sdk[notebooks]) (1.34.0)\n",
            "Requirement already satisfied: pkginfo in /anaconda/envs/automl-env/lib/python3.9/site-packages (from azureml-core~=1.59.0->azureml-sdk[notebooks]) (1.12.1.2)\n",
            "Requirement already satisfied: argcomplete<4 in /anaconda/envs/automl-env/lib/python3.9/site-packages (from azureml-core~=1.59.0->azureml-sdk[notebooks]) (3.6.2)\n",
            "Requirement already satisfied: humanfriendly<11.0,>=4.7 in /anaconda/envs/automl-env/lib/python3.9/site-packages (from azureml-core~=1.59.0->azureml-sdk[notebooks]) (10.0)\n",
            "Requirement already satisfied: paramiko<4.0.0,>=2.0.8 in /anaconda/envs/automl-env/lib/python3.9/site-packages (from azureml-core~=1.59.0->azureml-sdk[notebooks]) (3.5.1)\n",
            "Requirement already satisfied: azure-mgmt-resource<=24.0.0,>=15.0.0 in /anaconda/envs/automl-env/lib/python3.9/site-packages (from azureml-core~=1.59.0->azureml-sdk[notebooks]) (23.3.0)\n",
            "Requirement already satisfied: azure-mgmt-containerregistry<11,>=8.2.0 in /anaconda/envs/automl-env/lib/python3.9/site-packages (from azureml-core~=1.59.0->azureml-sdk[notebooks]) (10.3.0)\n",
            "Requirement already satisfied: azure-mgmt-storage<=22.0.0,>=16.0.0 in /anaconda/envs/automl-env/lib/python3.9/site-packages (from azureml-core~=1.59.0->azureml-sdk[notebooks]) (22.0.0)\n",
            "Requirement already satisfied: azure-mgmt-keyvault<11.0.0,>=0.40.0 in /anaconda/envs/automl-env/lib/python3.9/site-packages (from azureml-core~=1.59.0->azureml-sdk[notebooks]) (10.3.1)\n",
            "Requirement already satisfied: azure-mgmt-authorization<5,>=0.40.0 in /anaconda/envs/automl-env/lib/python3.9/site-packages (from azureml-core~=1.59.0->azureml-sdk[notebooks]) (4.0.0)\n",
            "Requirement already satisfied: azure-mgmt-network<=29.0.0 in /anaconda/envs/automl-env/lib/python3.9/site-packages (from azureml-core~=1.59.0->azureml-sdk[notebooks]) (28.1.0)\n",
            "Requirement already satisfied: azure-graphrbac<1.0.0,>=0.40.0 in /anaconda/envs/automl-env/lib/python3.9/site-packages (from azureml-core~=1.59.0->azureml-sdk[notebooks]) (0.61.2)\n",
            "Requirement already satisfied: azure-common<2.0.0,>=1.1.12 in /anaconda/envs/automl-env/lib/python3.9/site-packages (from azureml-core~=1.59.0->azureml-sdk[notebooks]) (1.1.28)\n",
            "Requirement already satisfied: msrest<=0.7.1,>=0.5.1 in /anaconda/envs/automl-env/lib/python3.9/site-packages (from azureml-core~=1.59.0->azureml-sdk[notebooks]) (0.7.1)\n",
            "Requirement already satisfied: msrestazure<=0.7,>=0.4.33 in /anaconda/envs/automl-env/lib/python3.9/site-packages (from azureml-core~=1.59.0->azureml-sdk[notebooks]) (0.6.4.post1)\n",
            "Requirement already satisfied: urllib3<3.0.0,>1.26.17 in /anaconda/envs/automl-env/lib/python3.9/site-packages (from azureml-core~=1.59.0->azureml-sdk[notebooks]) (1.26.20)\n",
            "Requirement already satisfied: packaging<=25.0,>=20.0 in /anaconda/envs/automl-env/lib/python3.9/site-packages (from azureml-core~=1.59.0->azureml-sdk[notebooks]) (24.2)\n",
            "Requirement already satisfied: python-dateutil<3.0.0,>=2.7.3 in /anaconda/envs/automl-env/lib/python3.9/site-packages (from azureml-core~=1.59.0->azureml-sdk[notebooks]) (2.9.0.post0)\n",
            "Requirement already satisfied: ndg-httpsclient<=0.5.1 in /anaconda/envs/automl-env/lib/python3.9/site-packages (from azureml-core~=1.59.0->azureml-sdk[notebooks]) (0.5.1)\n",
            "Requirement already satisfied: SecretStorage<4.0.0 in /anaconda/envs/automl-env/lib/python3.9/site-packages (from azureml-core~=1.59.0->azureml-sdk[notebooks]) (3.3.3)\n",
            "Requirement already satisfied: jsonpickle<5.0.0 in /anaconda/envs/automl-env/lib/python3.9/site-packages (from azureml-core~=1.59.0->azureml-sdk[notebooks]) (4.0.5)\n",
            "Requirement already satisfied: contextlib2<22.0.0 in /anaconda/envs/automl-env/lib/python3.9/site-packages (from azureml-core~=1.59.0->azureml-sdk[notebooks]) (21.6.0)\n",
            "Requirement already satisfied: docker<8.0.0 in /anaconda/envs/automl-env/lib/python3.9/site-packages (from azureml-core~=1.59.0->azureml-sdk[notebooks]) (7.1.0)\n",
            "Requirement already satisfied: PyJWT<3.0.0 in /anaconda/envs/automl-env/lib/python3.9/site-packages (from azureml-core~=1.59.0->azureml-sdk[notebooks]) (2.10.1)\n",
            "Requirement already satisfied: adal<=1.2.7,>=1.2.0 in /anaconda/envs/automl-env/lib/python3.9/site-packages (from azureml-core~=1.59.0->azureml-sdk[notebooks]) (1.2.7)\n",
            "Requirement already satisfied: pyopenssl<25.0.0 in /anaconda/envs/automl-env/lib/python3.9/site-packages (from azureml-core~=1.59.0->azureml-sdk[notebooks]) (24.3.0)\n",
            "Requirement already satisfied: jmespath<2.0.0 in /anaconda/envs/automl-env/lib/python3.9/site-packages (from azureml-core~=1.59.0->azureml-sdk[notebooks]) (0.10.0)\n",
            "Requirement already satisfied: cryptography>=1.1.0 in /anaconda/envs/automl-env/lib/python3.9/site-packages (from adal<=1.2.7,>=1.2.0->azureml-core~=1.59.0->azureml-sdk[notebooks]) (44.0.3)\n",
            "Requirement already satisfied: six>=1.11.0 in /anaconda/envs/automl-env/lib/python3.9/site-packages (from azure-core<2.0.0->azureml-core~=1.59.0->azureml-sdk[notebooks]) (1.17.0)\n",
            "Requirement already satisfied: typing-extensions>=4.6.0 in /anaconda/envs/automl-env/lib/python3.9/site-packages (from azure-core<2.0.0->azureml-core~=1.59.0->azureml-sdk[notebooks]) (4.13.2)\n",
            "Requirement already satisfied: isodate<1.0.0,>=0.6.1 in /anaconda/envs/automl-env/lib/python3.9/site-packages (from azure-mgmt-authorization<5,>=0.40.0->azureml-core~=1.59.0->azureml-sdk[notebooks]) (0.7.2)\n",
            "Requirement already satisfied: azure-mgmt-core<2.0.0,>=1.3.2 in /anaconda/envs/automl-env/lib/python3.9/site-packages (from azure-mgmt-authorization<5,>=0.40.0->azureml-core~=1.59.0->azureml-sdk[notebooks]) (1.5.0)\n",
            "Requirement already satisfied: azureml-dataprep<5.2.0a,>=5.1.0a in /anaconda/envs/automl-env/lib/python3.9/site-packages (from azureml-dataset-runtime~=1.59.0->azureml-dataset-runtime[fuse]~=1.59.0->azureml-sdk[notebooks]) (5.1.6)\n",
            "Requirement already satisfied: pyarrow>=0.17.0 in /anaconda/envs/automl-env/lib/python3.9/site-packages (from azureml-dataset-runtime~=1.59.0->azureml-dataset-runtime[fuse]~=1.59.0->azureml-sdk[notebooks]) (14.0.2)\n",
            "Requirement already satisfied: numpy!=1.19.3,<1.24 in /anaconda/envs/automl-env/lib/python3.9/site-packages (from azureml-dataset-runtime~=1.59.0->azureml-dataset-runtime[fuse]~=1.59.0->azureml-sdk[notebooks]) (1.23.5)\n",
            "Requirement already satisfied: azureml-dataprep-native<42.0.0,>=41.0.0 in /anaconda/envs/automl-env/lib/python3.9/site-packages (from azureml-dataprep<5.2.0a,>=5.1.0a->azureml-dataset-runtime~=1.59.0->azureml-dataset-runtime[fuse]~=1.59.0->azureml-sdk[notebooks]) (41.0.0)\n",
            "Requirement already satisfied: azureml-dataprep-rslex~=2.22.2dev0 in /anaconda/envs/automl-env/lib/python3.9/site-packages (from azureml-dataprep<5.2.0a,>=5.1.0a->azureml-dataset-runtime~=1.59.0->azureml-dataset-runtime[fuse]~=1.59.0->azureml-sdk[notebooks]) (2.22.5)\n",
            "Requirement already satisfied: cloudpickle<3.0.0,>=1.1.0 in /anaconda/envs/automl-env/lib/python3.9/site-packages (from azureml-dataprep<5.2.0a,>=5.1.0a->azureml-dataset-runtime~=1.59.0->azureml-dataset-runtime[fuse]~=1.59.0->azureml-sdk[notebooks]) (2.2.1)\n",
            "Requirement already satisfied: azure-identity>=1.7.0 in /anaconda/envs/automl-env/lib/python3.9/site-packages (from azureml-dataprep<5.2.0a,>=5.1.0a->azureml-dataset-runtime~=1.59.0->azureml-dataset-runtime[fuse]~=1.59.0->azureml-sdk[notebooks]) (1.23.0)\n",
            "Requirement already satisfied: jsonschema in /anaconda/envs/automl-env/lib/python3.9/site-packages (from azureml-dataprep<5.2.0a,>=5.1.0a->azureml-dataset-runtime~=1.59.0->azureml-dataset-runtime[fuse]~=1.59.0->azureml-sdk[notebooks]) (4.23.0)\n",
            "Requirement already satisfied: pyyaml<7.0.0,>=5.1.0 in /anaconda/envs/automl-env/lib/python3.9/site-packages (from azureml-dataprep<5.2.0a,>=5.1.0a->azureml-dataset-runtime~=1.59.0->azureml-dataset-runtime[fuse]~=1.59.0->azureml-sdk[notebooks]) (6.0.2)\n",
            "Requirement already satisfied: fusepy<4.0.0,>=3.0.1 in /anaconda/envs/automl-env/lib/python3.9/site-packages (from azureml-dataset-runtime[fuse]~=1.59.0->azureml-sdk[notebooks]) (3.0.1)\n",
            "Requirement already satisfied: azureml-pipeline-steps~=1.59.0 in /anaconda/envs/automl-env/lib/python3.9/site-packages (from azureml-pipeline~=1.59.0->azureml-sdk[notebooks]) (1.59.0)\n",
            "Requirement already satisfied: azureml-automl-core~=1.59.0 in /anaconda/envs/automl-env/lib/python3.9/site-packages (from azureml-train-automl-client~=1.59.0->azureml-sdk[notebooks]) (1.59.0)\n",
            "Requirement already satisfied: azureml-telemetry~=1.59.0 in /anaconda/envs/automl-env/lib/python3.9/site-packages (from azureml-train-automl-client~=1.59.0->azureml-sdk[notebooks]) (1.59.0)\n",
            "Requirement already satisfied: importlib-metadata<=8.2.0 in /anaconda/envs/automl-env/lib/python3.9/site-packages (from azureml-automl-core~=1.59.0->azureml-train-automl-client~=1.59.0->azureml-sdk[notebooks]) (8.2.0)\n",
            "Requirement already satisfied: importlib-resources<=6.4.0 in /anaconda/envs/automl-env/lib/python3.9/site-packages (from azureml-automl-core~=1.59.0->azureml-train-automl-client~=1.59.0->azureml-sdk[notebooks]) (6.4.0)\n",
            "Requirement already satisfied: applicationinsights in /anaconda/envs/automl-env/lib/python3.9/site-packages (from azureml-telemetry~=1.59.0->azureml-train-automl-client~=1.59.0->azureml-sdk[notebooks]) (0.11.10)\n",
            "Requirement already satisfied: azureml-train-restclients-hyperdrive~=1.59.0 in /anaconda/envs/automl-env/lib/python3.9/site-packages (from azureml-train-core~=1.59.0->azureml-sdk[notebooks]) (1.59.0)\n",
            "Requirement already satisfied: azure-storage-blob>=12.6.0 in /anaconda/envs/automl-env/lib/python3.9/site-packages (from azureml-widgets~=1.59.0->azureml-sdk[notebooks]) (12.19.0)\n",
            "Requirement already satisfied: ipywidgets<8.0.0,>=7.0.0 in /anaconda/envs/automl-env/lib/python3.9/site-packages (from azureml-widgets~=1.59.0->azureml-sdk[notebooks]) (7.8.5)\n",
            "Requirement already satisfied: jinja2<4.0 in /anaconda/envs/automl-env/lib/python3.9/site-packages (from azureml-widgets~=1.59.0->azureml-sdk[notebooks]) (3.1.6)\n",
            "Requirement already satisfied: zipp>=0.5 in /anaconda/envs/automl-env/lib/python3.9/site-packages (from importlib-metadata<=8.2.0->azureml-automl-core~=1.59.0->azureml-train-automl-client~=1.59.0->azureml-sdk[notebooks]) (3.21.0)\n",
            "Requirement already satisfied: comm>=0.1.3 in /anaconda/envs/automl-env/lib/python3.9/site-packages (from ipywidgets<8.0.0,>=7.0.0->azureml-widgets~=1.59.0->azureml-sdk[notebooks]) (0.2.2)\n",
            "Requirement already satisfied: ipython-genutils~=0.2.0 in /anaconda/envs/automl-env/lib/python3.9/site-packages (from ipywidgets<8.0.0,>=7.0.0->azureml-widgets~=1.59.0->azureml-sdk[notebooks]) (0.2.0)\n",
            "Requirement already satisfied: traitlets>=4.3.1 in /anaconda/envs/automl-env/lib/python3.9/site-packages (from ipywidgets<8.0.0,>=7.0.0->azureml-widgets~=1.59.0->azureml-sdk[notebooks]) (5.14.3)\n",
            "Requirement already satisfied: widgetsnbextension~=3.6.10 in /anaconda/envs/automl-env/lib/python3.9/site-packages (from ipywidgets<8.0.0,>=7.0.0->azureml-widgets~=1.59.0->azureml-sdk[notebooks]) (3.6.10)\n",
            "Requirement already satisfied: jupyterlab-widgets<3,>=1.0.0 in /anaconda/envs/automl-env/lib/python3.9/site-packages (from ipywidgets<8.0.0,>=7.0.0->azureml-widgets~=1.59.0->azureml-sdk[notebooks]) (1.1.11)\n",
            "Requirement already satisfied: MarkupSafe>=2.0 in /anaconda/envs/automl-env/lib/python3.9/site-packages (from jinja2<4.0->azureml-widgets~=1.59.0->azureml-sdk[notebooks]) (3.0.2)\n",
            "Requirement already satisfied: entrypoints in /anaconda/envs/automl-env/lib/python3.9/site-packages (from jupyter-client<8->azureml-contrib-notebook~=1.59.0->azureml-sdk[notebooks]) (0.4)\n",
            "Requirement already satisfied: jupyter-core>=4.9.2 in /anaconda/envs/automl-env/lib/python3.9/site-packages (from jupyter-client<8->azureml-contrib-notebook~=1.59.0->azureml-sdk[notebooks]) (5.7.2)\n",
            "Requirement already satisfied: nest-asyncio>=1.5.4 in /anaconda/envs/automl-env/lib/python3.9/site-packages (from jupyter-client<8->azureml-contrib-notebook~=1.59.0->azureml-sdk[notebooks]) (1.6.0)\n",
            "Requirement already satisfied: pyzmq>=23.0 in /anaconda/envs/automl-env/lib/python3.9/site-packages (from jupyter-client<8->azureml-contrib-notebook~=1.59.0->azureml-sdk[notebooks]) (26.4.0)\n",
            "Requirement already satisfied: tornado>=6.2 in /anaconda/envs/automl-env/lib/python3.9/site-packages (from jupyter-client<8->azureml-contrib-notebook~=1.59.0->azureml-sdk[notebooks]) (6.5)\n",
            "Requirement already satisfied: pygments in /anaconda/envs/automl-env/lib/python3.9/site-packages (from knack<0.13.0->azureml-core~=1.59.0->azureml-sdk[notebooks]) (2.19.1)\n",
            "Requirement already satisfied: tabulate in /anaconda/envs/automl-env/lib/python3.9/site-packages (from knack<0.13.0->azureml-core~=1.59.0->azureml-sdk[notebooks]) (0.9.0)\n",
            "Requirement already satisfied: cffi>=1.12 in /anaconda/envs/automl-env/lib/python3.9/site-packages (from cryptography>=1.1.0->adal<=1.2.7,>=1.2.0->azureml-core~=1.59.0->azureml-sdk[notebooks]) (1.17.1)\n",
            "Requirement already satisfied: certifi>=2017.4.17 in /anaconda/envs/automl-env/lib/python3.9/site-packages (from msrest<=0.7.1,>=0.5.1->azureml-core~=1.59.0->azureml-sdk[notebooks]) (2025.4.26)\n",
            "Requirement already satisfied: requests-oauthlib>=0.5.0 in /anaconda/envs/automl-env/lib/python3.9/site-packages (from msrest<=0.7.1,>=0.5.1->azureml-core~=1.59.0->azureml-sdk[notebooks]) (2.0.0)\n",
            "Requirement already satisfied: beautifulsoup4 in /anaconda/envs/automl-env/lib/python3.9/site-packages (from nbconvert<8->azureml-contrib-notebook~=1.59.0->azureml-sdk[notebooks]) (4.13.4)\n",
            "Requirement already satisfied: bleach!=5.0.0 in /anaconda/envs/automl-env/lib/python3.9/site-packages (from bleach[css]!=5.0.0->nbconvert<8->azureml-contrib-notebook~=1.59.0->azureml-sdk[notebooks]) (6.2.0)\n",
            "Requirement already satisfied: defusedxml in /anaconda/envs/automl-env/lib/python3.9/site-packages (from nbconvert<8->azureml-contrib-notebook~=1.59.0->azureml-sdk[notebooks]) (0.7.1)\n",
            "Requirement already satisfied: jupyterlab-pygments in /anaconda/envs/automl-env/lib/python3.9/site-packages (from nbconvert<8->azureml-contrib-notebook~=1.59.0->azureml-sdk[notebooks]) (0.3.0)\n",
            "Requirement already satisfied: mistune<4,>=2.0.3 in /anaconda/envs/automl-env/lib/python3.9/site-packages (from nbconvert<8->azureml-contrib-notebook~=1.59.0->azureml-sdk[notebooks]) (3.1.3)\n",
            "Requirement already satisfied: nbclient>=0.5.0 in /anaconda/envs/automl-env/lib/python3.9/site-packages (from nbconvert<8->azureml-contrib-notebook~=1.59.0->azureml-sdk[notebooks]) (0.10.2)\n",
            "Requirement already satisfied: nbformat>=5.7 in /anaconda/envs/automl-env/lib/python3.9/site-packages (from nbconvert<8->azureml-contrib-notebook~=1.59.0->azureml-sdk[notebooks]) (5.10.4)\n",
            "Requirement already satisfied: pandocfilters>=1.4.1 in /anaconda/envs/automl-env/lib/python3.9/site-packages (from nbconvert<8->azureml-contrib-notebook~=1.59.0->azureml-sdk[notebooks]) (1.5.1)\n",
            "Requirement already satisfied: pyasn1>=0.1.1 in /anaconda/envs/automl-env/lib/python3.9/site-packages (from ndg-httpsclient<=0.5.1->azureml-core~=1.59.0->azureml-sdk[notebooks]) (0.6.1)\n",
            "Requirement already satisfied: click in /anaconda/envs/automl-env/lib/python3.9/site-packages (from papermill<3->azureml-contrib-notebook~=1.59.0->azureml-sdk[notebooks]) (8.1.8)\n",
            "Requirement already satisfied: tqdm>=4.32.2 in /anaconda/envs/automl-env/lib/python3.9/site-packages (from papermill<3->azureml-contrib-notebook~=1.59.0->azureml-sdk[notebooks]) (4.67.1)\n",
            "Requirement already satisfied: tenacity>=5.0.2 in /anaconda/envs/automl-env/lib/python3.9/site-packages (from papermill<3->azureml-contrib-notebook~=1.59.0->azureml-sdk[notebooks]) (9.1.2)\n",
            "Requirement already satisfied: ansicolors in /anaconda/envs/automl-env/lib/python3.9/site-packages (from papermill<3->azureml-contrib-notebook~=1.59.0->azureml-sdk[notebooks]) (1.1.8)\n",
            "Requirement already satisfied: bcrypt>=3.2 in /anaconda/envs/automl-env/lib/python3.9/site-packages (from paramiko<4.0.0,>=2.0.8->azureml-core~=1.59.0->azureml-sdk[notebooks]) (4.3.0)\n",
            "Requirement already satisfied: pynacl>=1.5 in /anaconda/envs/automl-env/lib/python3.9/site-packages (from paramiko<4.0.0,>=2.0.8->azureml-core~=1.59.0->azureml-sdk[notebooks]) (1.5.0)\n",
            "Requirement already satisfied: charset-normalizer<4,>=2 in /anaconda/envs/automl-env/lib/python3.9/site-packages (from requests<3.0.0,>=2.19.1->requests[socks]<3.0.0,>=2.19.1->azureml-core~=1.59.0->azureml-sdk[notebooks]) (3.4.2)\n",
            "Requirement already satisfied: idna<4,>=2.5 in /anaconda/envs/automl-env/lib/python3.9/site-packages (from requests<3.0.0,>=2.19.1->requests[socks]<3.0.0,>=2.19.1->azureml-core~=1.59.0->azureml-sdk[notebooks]) (3.10)\n",
            "Requirement already satisfied: PySocks!=1.5.7,>=1.5.6 in /anaconda/envs/automl-env/lib/python3.9/site-packages (from requests[socks]<3.0.0,>=2.19.1->azureml-core~=1.59.0->azureml-sdk[notebooks]) (1.7.1)\n",
            "Requirement already satisfied: jeepney>=0.6 in /anaconda/envs/automl-env/lib/python3.9/site-packages (from SecretStorage<4.0.0->azureml-core~=1.59.0->azureml-sdk[notebooks]) (0.9.0)\n",
            "Requirement already satisfied: notebook>=4.4.1 in /anaconda/envs/automl-env/lib/python3.9/site-packages (from widgetsnbextension~=3.6.10->ipywidgets<8.0.0,>=7.0.0->azureml-widgets~=1.59.0->azureml-sdk[notebooks]) (7.4.2)\n",
            "Requirement already satisfied: webencodings in /anaconda/envs/automl-env/lib/python3.9/site-packages (from bleach!=5.0.0->bleach[css]!=5.0.0->nbconvert<8->azureml-contrib-notebook~=1.59.0->azureml-sdk[notebooks]) (0.5.1)\n",
            "Requirement already satisfied: tinycss2<1.5,>=1.1.0 in /anaconda/envs/automl-env/lib/python3.9/site-packages (from bleach[css]!=5.0.0->nbconvert<8->azureml-contrib-notebook~=1.59.0->azureml-sdk[notebooks]) (1.4.0)\n",
            "Requirement already satisfied: pycparser in /anaconda/envs/automl-env/lib/python3.9/site-packages (from cffi>=1.12->cryptography>=1.1.0->adal<=1.2.7,>=1.2.0->azureml-core~=1.59.0->azureml-sdk[notebooks]) (2.22)\n",
            "Requirement already satisfied: decorator in /anaconda/envs/automl-env/lib/python3.9/site-packages (from ipython->azureml-contrib-notebook~=1.59.0->azureml-sdk[notebooks]) (5.2.1)\n",
            "Requirement already satisfied: jedi>=0.16 in /anaconda/envs/automl-env/lib/python3.9/site-packages (from ipython->azureml-contrib-notebook~=1.59.0->azureml-sdk[notebooks]) (0.19.2)\n",
            "Requirement already satisfied: matplotlib-inline in /anaconda/envs/automl-env/lib/python3.9/site-packages (from ipython->azureml-contrib-notebook~=1.59.0->azureml-sdk[notebooks]) (0.1.7)\n",
            "Requirement already satisfied: prompt-toolkit<3.1.0,>=3.0.41 in /anaconda/envs/automl-env/lib/python3.9/site-packages (from ipython->azureml-contrib-notebook~=1.59.0->azureml-sdk[notebooks]) (3.0.51)\n",
            "Requirement already satisfied: stack-data in /anaconda/envs/automl-env/lib/python3.9/site-packages (from ipython->azureml-contrib-notebook~=1.59.0->azureml-sdk[notebooks]) (0.6.3)\n",
            "Requirement already satisfied: exceptiongroup in /anaconda/envs/automl-env/lib/python3.9/site-packages (from ipython->azureml-contrib-notebook~=1.59.0->azureml-sdk[notebooks]) (1.3.0)\n",
            "Requirement already satisfied: pexpect>4.3 in /anaconda/envs/automl-env/lib/python3.9/site-packages (from ipython->azureml-contrib-notebook~=1.59.0->azureml-sdk[notebooks]) (4.9.0)\n",
            "Requirement already satisfied: wcwidth in /anaconda/envs/automl-env/lib/python3.9/site-packages (from prompt-toolkit<3.1.0,>=3.0.41->ipython->azureml-contrib-notebook~=1.59.0->azureml-sdk[notebooks]) (0.2.13)\n",
            "Requirement already satisfied: parso<0.9.0,>=0.8.4 in /anaconda/envs/automl-env/lib/python3.9/site-packages (from jedi>=0.16->ipython->azureml-contrib-notebook~=1.59.0->azureml-sdk[notebooks]) (0.8.4)\n",
            "Requirement already satisfied: platformdirs>=2.5 in /anaconda/envs/automl-env/lib/python3.9/site-packages (from jupyter-core>=4.9.2->jupyter-client<8->azureml-contrib-notebook~=1.59.0->azureml-sdk[notebooks]) (4.3.8)\n",
            "Requirement already satisfied: fastjsonschema>=2.15 in /anaconda/envs/automl-env/lib/python3.9/site-packages (from nbformat>=5.7->nbconvert<8->azureml-contrib-notebook~=1.59.0->azureml-sdk[notebooks]) (2.21.1)\n",
            "Requirement already satisfied: attrs>=22.2.0 in /anaconda/envs/automl-env/lib/python3.9/site-packages (from jsonschema->azureml-dataprep<5.2.0a,>=5.1.0a->azureml-dataset-runtime~=1.59.0->azureml-dataset-runtime[fuse]~=1.59.0->azureml-sdk[notebooks]) (25.3.0)\n",
            "Requirement already satisfied: jsonschema-specifications>=2023.03.6 in /anaconda/envs/automl-env/lib/python3.9/site-packages (from jsonschema->azureml-dataprep<5.2.0a,>=5.1.0a->azureml-dataset-runtime~=1.59.0->azureml-dataset-runtime[fuse]~=1.59.0->azureml-sdk[notebooks]) (2025.4.1)\n",
            "Requirement already satisfied: referencing>=0.28.4 in /anaconda/envs/automl-env/lib/python3.9/site-packages (from jsonschema->azureml-dataprep<5.2.0a,>=5.1.0a->azureml-dataset-runtime~=1.59.0->azureml-dataset-runtime[fuse]~=1.59.0->azureml-sdk[notebooks]) (0.36.2)\n",
            "Requirement already satisfied: rpds-py>=0.7.1 in /anaconda/envs/automl-env/lib/python3.9/site-packages (from jsonschema->azureml-dataprep<5.2.0a,>=5.1.0a->azureml-dataset-runtime~=1.59.0->azureml-dataset-runtime[fuse]~=1.59.0->azureml-sdk[notebooks]) (0.25.0)\n",
            "Requirement already satisfied: jupyter-server<3,>=2.4.0 in /anaconda/envs/automl-env/lib/python3.9/site-packages (from notebook>=4.4.1->widgetsnbextension~=3.6.10->ipywidgets<8.0.0,>=7.0.0->azureml-widgets~=1.59.0->azureml-sdk[notebooks]) (2.16.0)\n",
            "Requirement already satisfied: jupyterlab-server<3,>=2.27.1 in /anaconda/envs/automl-env/lib/python3.9/site-packages (from notebook>=4.4.1->widgetsnbextension~=3.6.10->ipywidgets<8.0.0,>=7.0.0->azureml-widgets~=1.59.0->azureml-sdk[notebooks]) (2.27.3)\n",
            "Requirement already satisfied: jupyterlab<4.5,>=4.4.0 in /anaconda/envs/automl-env/lib/python3.9/site-packages (from notebook>=4.4.1->widgetsnbextension~=3.6.10->ipywidgets<8.0.0,>=7.0.0->azureml-widgets~=1.59.0->azureml-sdk[notebooks]) (4.4.2)\n",
            "Requirement already satisfied: notebook-shim<0.3,>=0.2 in /anaconda/envs/automl-env/lib/python3.9/site-packages (from notebook>=4.4.1->widgetsnbextension~=3.6.10->ipywidgets<8.0.0,>=7.0.0->azureml-widgets~=1.59.0->azureml-sdk[notebooks]) (0.2.4)\n",
            "Requirement already satisfied: anyio>=3.1.0 in /anaconda/envs/automl-env/lib/python3.9/site-packages (from jupyter-server<3,>=2.4.0->notebook>=4.4.1->widgetsnbextension~=3.6.10->ipywidgets<8.0.0,>=7.0.0->azureml-widgets~=1.59.0->azureml-sdk[notebooks]) (4.9.0)\n",
            "Requirement already satisfied: argon2-cffi>=21.1 in /anaconda/envs/automl-env/lib/python3.9/site-packages (from jupyter-server<3,>=2.4.0->notebook>=4.4.1->widgetsnbextension~=3.6.10->ipywidgets<8.0.0,>=7.0.0->azureml-widgets~=1.59.0->azureml-sdk[notebooks]) (23.1.0)\n",
            "Requirement already satisfied: jupyter-events>=0.11.0 in /anaconda/envs/automl-env/lib/python3.9/site-packages (from jupyter-server<3,>=2.4.0->notebook>=4.4.1->widgetsnbextension~=3.6.10->ipywidgets<8.0.0,>=7.0.0->azureml-widgets~=1.59.0->azureml-sdk[notebooks]) (0.12.0)\n",
            "Requirement already satisfied: jupyter-server-terminals>=0.4.4 in /anaconda/envs/automl-env/lib/python3.9/site-packages (from jupyter-server<3,>=2.4.0->notebook>=4.4.1->widgetsnbextension~=3.6.10->ipywidgets<8.0.0,>=7.0.0->azureml-widgets~=1.59.0->azureml-sdk[notebooks]) (0.5.3)\n",
            "Requirement already satisfied: overrides>=5.0 in /anaconda/envs/automl-env/lib/python3.9/site-packages (from jupyter-server<3,>=2.4.0->notebook>=4.4.1->widgetsnbextension~=3.6.10->ipywidgets<8.0.0,>=7.0.0->azureml-widgets~=1.59.0->azureml-sdk[notebooks]) (7.7.0)\n",
            "Requirement already satisfied: prometheus-client>=0.9 in /anaconda/envs/automl-env/lib/python3.9/site-packages (from jupyter-server<3,>=2.4.0->notebook>=4.4.1->widgetsnbextension~=3.6.10->ipywidgets<8.0.0,>=7.0.0->azureml-widgets~=1.59.0->azureml-sdk[notebooks]) (0.22.0)\n",
            "Requirement already satisfied: send2trash>=1.8.2 in /anaconda/envs/automl-env/lib/python3.9/site-packages (from jupyter-server<3,>=2.4.0->notebook>=4.4.1->widgetsnbextension~=3.6.10->ipywidgets<8.0.0,>=7.0.0->azureml-widgets~=1.59.0->azureml-sdk[notebooks]) (1.8.3)\n",
            "Requirement already satisfied: terminado>=0.8.3 in /anaconda/envs/automl-env/lib/python3.9/site-packages (from jupyter-server<3,>=2.4.0->notebook>=4.4.1->widgetsnbextension~=3.6.10->ipywidgets<8.0.0,>=7.0.0->azureml-widgets~=1.59.0->azureml-sdk[notebooks]) (0.18.1)\n",
            "Requirement already satisfied: websocket-client>=1.7 in /anaconda/envs/automl-env/lib/python3.9/site-packages (from jupyter-server<3,>=2.4.0->notebook>=4.4.1->widgetsnbextension~=3.6.10->ipywidgets<8.0.0,>=7.0.0->azureml-widgets~=1.59.0->azureml-sdk[notebooks]) (1.8.0)\n",
            "Requirement already satisfied: async-lru>=1.0.0 in /anaconda/envs/automl-env/lib/python3.9/site-packages (from jupyterlab<4.5,>=4.4.0->notebook>=4.4.1->widgetsnbextension~=3.6.10->ipywidgets<8.0.0,>=7.0.0->azureml-widgets~=1.59.0->azureml-sdk[notebooks]) (2.0.5)\n",
            "Requirement already satisfied: httpx>=0.25.0 in /anaconda/envs/automl-env/lib/python3.9/site-packages (from jupyterlab<4.5,>=4.4.0->notebook>=4.4.1->widgetsnbextension~=3.6.10->ipywidgets<8.0.0,>=7.0.0->azureml-widgets~=1.59.0->azureml-sdk[notebooks]) (0.28.1)\n",
            "Requirement already satisfied: jupyter-lsp>=2.0.0 in /anaconda/envs/automl-env/lib/python3.9/site-packages (from jupyterlab<4.5,>=4.4.0->notebook>=4.4.1->widgetsnbextension~=3.6.10->ipywidgets<8.0.0,>=7.0.0->azureml-widgets~=1.59.0->azureml-sdk[notebooks]) (2.2.5)\n",
            "Requirement already satisfied: setuptools>=41.1.0 in /anaconda/envs/automl-env/lib/python3.9/site-packages (from jupyterlab<4.5,>=4.4.0->notebook>=4.4.1->widgetsnbextension~=3.6.10->ipywidgets<8.0.0,>=7.0.0->azureml-widgets~=1.59.0->azureml-sdk[notebooks]) (78.1.1)\n",
            "Requirement already satisfied: tomli>=1.2.2 in /anaconda/envs/automl-env/lib/python3.9/site-packages (from jupyterlab<4.5,>=4.4.0->notebook>=4.4.1->widgetsnbextension~=3.6.10->ipywidgets<8.0.0,>=7.0.0->azureml-widgets~=1.59.0->azureml-sdk[notebooks]) (2.2.1)\n",
            "Requirement already satisfied: babel>=2.10 in /anaconda/envs/automl-env/lib/python3.9/site-packages (from jupyterlab-server<3,>=2.27.1->notebook>=4.4.1->widgetsnbextension~=3.6.10->ipywidgets<8.0.0,>=7.0.0->azureml-widgets~=1.59.0->azureml-sdk[notebooks]) (2.17.0)\n",
            "Requirement already satisfied: json5>=0.9.0 in /anaconda/envs/automl-env/lib/python3.9/site-packages (from jupyterlab-server<3,>=2.27.1->notebook>=4.4.1->widgetsnbextension~=3.6.10->ipywidgets<8.0.0,>=7.0.0->azureml-widgets~=1.59.0->azureml-sdk[notebooks]) (0.12.0)\n",
            "Requirement already satisfied: sniffio>=1.1 in /anaconda/envs/automl-env/lib/python3.9/site-packages (from anyio>=3.1.0->jupyter-server<3,>=2.4.0->notebook>=4.4.1->widgetsnbextension~=3.6.10->ipywidgets<8.0.0,>=7.0.0->azureml-widgets~=1.59.0->azureml-sdk[notebooks]) (1.3.1)\n",
            "Requirement already satisfied: argon2-cffi-bindings in /anaconda/envs/automl-env/lib/python3.9/site-packages (from argon2-cffi>=21.1->jupyter-server<3,>=2.4.0->notebook>=4.4.1->widgetsnbextension~=3.6.10->ipywidgets<8.0.0,>=7.0.0->azureml-widgets~=1.59.0->azureml-sdk[notebooks]) (21.2.0)\n",
            "Requirement already satisfied: httpcore==1.* in /anaconda/envs/automl-env/lib/python3.9/site-packages (from httpx>=0.25.0->jupyterlab<4.5,>=4.4.0->notebook>=4.4.1->widgetsnbextension~=3.6.10->ipywidgets<8.0.0,>=7.0.0->azureml-widgets~=1.59.0->azureml-sdk[notebooks]) (1.0.9)\n",
            "Requirement already satisfied: h11>=0.16 in /anaconda/envs/automl-env/lib/python3.9/site-packages (from httpcore==1.*->httpx>=0.25.0->jupyterlab<4.5,>=4.4.0->notebook>=4.4.1->widgetsnbextension~=3.6.10->ipywidgets<8.0.0,>=7.0.0->azureml-widgets~=1.59.0->azureml-sdk[notebooks]) (0.16.0)\n",
            "Requirement already satisfied: debugpy>=1.6.5 in /anaconda/envs/automl-env/lib/python3.9/site-packages (from ipykernel->azureml-contrib-notebook~=1.59.0->azureml-sdk[notebooks]) (1.8.14)\n",
            "Requirement already satisfied: psutil in /anaconda/envs/automl-env/lib/python3.9/site-packages (from ipykernel->azureml-contrib-notebook~=1.59.0->azureml-sdk[notebooks]) (5.9.3)\n",
            "Requirement already satisfied: python-json-logger>=2.0.4 in /anaconda/envs/automl-env/lib/python3.9/site-packages (from jupyter-events>=0.11.0->jupyter-server<3,>=2.4.0->notebook>=4.4.1->widgetsnbextension~=3.6.10->ipywidgets<8.0.0,>=7.0.0->azureml-widgets~=1.59.0->azureml-sdk[notebooks]) (3.3.0)\n",
            "Requirement already satisfied: rfc3339-validator in /anaconda/envs/automl-env/lib/python3.9/site-packages (from jupyter-events>=0.11.0->jupyter-server<3,>=2.4.0->notebook>=4.4.1->widgetsnbextension~=3.6.10->ipywidgets<8.0.0,>=7.0.0->azureml-widgets~=1.59.0->azureml-sdk[notebooks]) (0.1.4)\n",
            "Requirement already satisfied: rfc3986-validator>=0.1.1 in /anaconda/envs/automl-env/lib/python3.9/site-packages (from jupyter-events>=0.11.0->jupyter-server<3,>=2.4.0->notebook>=4.4.1->widgetsnbextension~=3.6.10->ipywidgets<8.0.0,>=7.0.0->azureml-widgets~=1.59.0->azureml-sdk[notebooks]) (0.1.1)\n",
            "Requirement already satisfied: fqdn in /anaconda/envs/automl-env/lib/python3.9/site-packages (from jsonschema[format-nongpl]>=4.18.0->jupyter-events>=0.11.0->jupyter-server<3,>=2.4.0->notebook>=4.4.1->widgetsnbextension~=3.6.10->ipywidgets<8.0.0,>=7.0.0->azureml-widgets~=1.59.0->azureml-sdk[notebooks]) (1.5.1)\n",
            "Requirement already satisfied: isoduration in /anaconda/envs/automl-env/lib/python3.9/site-packages (from jsonschema[format-nongpl]>=4.18.0->jupyter-events>=0.11.0->jupyter-server<3,>=2.4.0->notebook>=4.4.1->widgetsnbextension~=3.6.10->ipywidgets<8.0.0,>=7.0.0->azureml-widgets~=1.59.0->azureml-sdk[notebooks]) (20.11.0)\n",
            "Requirement already satisfied: jsonpointer>1.13 in /anaconda/envs/automl-env/lib/python3.9/site-packages (from jsonschema[format-nongpl]>=4.18.0->jupyter-events>=0.11.0->jupyter-server<3,>=2.4.0->notebook>=4.4.1->widgetsnbextension~=3.6.10->ipywidgets<8.0.0,>=7.0.0->azureml-widgets~=1.59.0->azureml-sdk[notebooks]) (3.0.0)\n",
            "Requirement already satisfied: uri-template in /anaconda/envs/automl-env/lib/python3.9/site-packages (from jsonschema[format-nongpl]>=4.18.0->jupyter-events>=0.11.0->jupyter-server<3,>=2.4.0->notebook>=4.4.1->widgetsnbextension~=3.6.10->ipywidgets<8.0.0,>=7.0.0->azureml-widgets~=1.59.0->azureml-sdk[notebooks]) (1.3.0)\n",
            "Requirement already satisfied: webcolors>=24.6.0 in /anaconda/envs/automl-env/lib/python3.9/site-packages (from jsonschema[format-nongpl]>=4.18.0->jupyter-events>=0.11.0->jupyter-server<3,>=2.4.0->notebook>=4.4.1->widgetsnbextension~=3.6.10->ipywidgets<8.0.0,>=7.0.0->azureml-widgets~=1.59.0->azureml-sdk[notebooks]) (24.11.1)\n",
            "Requirement already satisfied: ptyprocess>=0.5 in /anaconda/envs/automl-env/lib/python3.9/site-packages (from pexpect>4.3->ipython->azureml-contrib-notebook~=1.59.0->azureml-sdk[notebooks]) (0.7.0)\n",
            "Requirement already satisfied: oauthlib>=3.0.0 in /anaconda/envs/automl-env/lib/python3.9/site-packages (from requests-oauthlib>=0.5.0->msrest<=0.7.1,>=0.5.1->azureml-core~=1.59.0->azureml-sdk[notebooks]) (3.2.2)\n",
            "Requirement already satisfied: backports.weakref in /anaconda/envs/automl-env/lib/python3.9/site-packages (from backports.tempfile->azureml-core~=1.59.0->azureml-sdk[notebooks]) (1.0.post1)\n",
            "Requirement already satisfied: soupsieve>1.2 in /anaconda/envs/automl-env/lib/python3.9/site-packages (from beautifulsoup4->nbconvert<8->azureml-contrib-notebook~=1.59.0->azureml-sdk[notebooks]) (2.7)\n",
            "Requirement already satisfied: arrow>=0.15.0 in /anaconda/envs/automl-env/lib/python3.9/site-packages (from isoduration->jsonschema[format-nongpl]>=4.18.0->jupyter-events>=0.11.0->jupyter-server<3,>=2.4.0->notebook>=4.4.1->widgetsnbextension~=3.6.10->ipywidgets<8.0.0,>=7.0.0->azureml-widgets~=1.59.0->azureml-sdk[notebooks]) (1.3.0)\n",
            "Requirement already satisfied: types-python-dateutil>=2.8.10 in /anaconda/envs/automl-env/lib/python3.9/site-packages (from arrow>=0.15.0->isoduration->jsonschema[format-nongpl]>=4.18.0->jupyter-events>=0.11.0->jupyter-server<3,>=2.4.0->notebook>=4.4.1->widgetsnbextension~=3.6.10->ipywidgets<8.0.0,>=7.0.0->azureml-widgets~=1.59.0->azureml-sdk[notebooks]) (2.9.0.20250516)\n",
            "Requirement already satisfied: executing>=1.2.0 in /anaconda/envs/automl-env/lib/python3.9/site-packages (from stack-data->ipython->azureml-contrib-notebook~=1.59.0->azureml-sdk[notebooks]) (2.2.0)\n",
            "Requirement already satisfied: asttokens>=2.1.0 in /anaconda/envs/automl-env/lib/python3.9/site-packages (from stack-data->ipython->azureml-contrib-notebook~=1.59.0->azureml-sdk[notebooks]) (3.0.0)\n",
            "Requirement already satisfied: pure-eval in /anaconda/envs/automl-env/lib/python3.9/site-packages (from stack-data->ipython->azureml-contrib-notebook~=1.59.0->azureml-sdk[notebooks]) (0.2.3)\n",
            "Note: you may need to restart the kernel to use updated packages.\n"
          ]
        }
      ],
      "source": [
        "pip install 'azureml-sdk[notebooks]'"
      ]
    },
    {
      "cell_type": "code",
      "execution_count": 38,
      "metadata": {
        "gather": {
          "logged": 1747654167656
        }
      },
      "outputs": [
        {
          "name": "stdout",
          "output_type": "stream",
          "text": [
            "Requirement already satisfied: azureml-sdk[automl] in /anaconda/envs/automl-env/lib/python3.9/site-packages (1.59.0)\n",
            "Requirement already satisfied: azureml-core~=1.59.0 in /anaconda/envs/automl-env/lib/python3.9/site-packages (from azureml-sdk[automl]) (1.59.0.post2)\n",
            "Requirement already satisfied: azureml-dataset-runtime~=1.59.0 in /anaconda/envs/automl-env/lib/python3.9/site-packages (from azureml-dataset-runtime[fuse]~=1.59.0->azureml-sdk[automl]) (1.59.0)\n",
            "Requirement already satisfied: azureml-train-core~=1.59.0 in /anaconda/envs/automl-env/lib/python3.9/site-packages (from azureml-sdk[automl]) (1.59.0)\n",
            "Requirement already satisfied: azureml-train-automl-client~=1.59.0 in /anaconda/envs/automl-env/lib/python3.9/site-packages (from azureml-sdk[automl]) (1.59.0)\n",
            "Requirement already satisfied: azureml-pipeline~=1.59.0 in /anaconda/envs/automl-env/lib/python3.9/site-packages (from azureml-sdk[automl]) (1.59.0)\n",
            "Requirement already satisfied: azureml-train-automl~=1.59.0 in /anaconda/envs/automl-env/lib/python3.9/site-packages (from azureml-sdk[automl]) (1.59.0)\n",
            "Requirement already satisfied: pytz in /anaconda/envs/automl-env/lib/python3.9/site-packages (from azureml-core~=1.59.0->azureml-sdk[automl]) (2025.2)\n",
            "Requirement already satisfied: backports.tempfile in /anaconda/envs/automl-env/lib/python3.9/site-packages (from azureml-core~=1.59.0->azureml-sdk[automl]) (1.0)\n",
            "Requirement already satisfied: pathspec<1.0.0 in /anaconda/envs/automl-env/lib/python3.9/site-packages (from azureml-core~=1.59.0->azureml-sdk[automl]) (0.12.1)\n",
            "Requirement already satisfied: requests<3.0.0,>=2.19.1 in /anaconda/envs/automl-env/lib/python3.9/site-packages (from requests[socks]<3.0.0,>=2.19.1->azureml-core~=1.59.0->azureml-sdk[automl]) (2.32.3)\n",
            "Requirement already satisfied: msal<2.0.0,>=1.15.0 in /anaconda/envs/automl-env/lib/python3.9/site-packages (from azureml-core~=1.59.0->azureml-sdk[automl]) (1.32.3)\n",
            "Requirement already satisfied: msal-extensions<=2.0.0,>=0.3.0 in /anaconda/envs/automl-env/lib/python3.9/site-packages (from azureml-core~=1.59.0->azureml-sdk[automl]) (1.3.1)\n",
            "Requirement already satisfied: knack<0.13.0 in /anaconda/envs/automl-env/lib/python3.9/site-packages (from azureml-core~=1.59.0->azureml-sdk[automl]) (0.12.0)\n",
            "Requirement already satisfied: azure-core<2.0.0 in /anaconda/envs/automl-env/lib/python3.9/site-packages (from azureml-core~=1.59.0->azureml-sdk[automl]) (1.34.0)\n",
            "Requirement already satisfied: pkginfo in /anaconda/envs/automl-env/lib/python3.9/site-packages (from azureml-core~=1.59.0->azureml-sdk[automl]) (1.12.1.2)\n",
            "Requirement already satisfied: argcomplete<4 in /anaconda/envs/automl-env/lib/python3.9/site-packages (from azureml-core~=1.59.0->azureml-sdk[automl]) (3.6.2)\n",
            "Requirement already satisfied: humanfriendly<11.0,>=4.7 in /anaconda/envs/automl-env/lib/python3.9/site-packages (from azureml-core~=1.59.0->azureml-sdk[automl]) (10.0)\n",
            "Requirement already satisfied: paramiko<4.0.0,>=2.0.8 in /anaconda/envs/automl-env/lib/python3.9/site-packages (from azureml-core~=1.59.0->azureml-sdk[automl]) (3.5.1)\n",
            "Requirement already satisfied: azure-mgmt-resource<=24.0.0,>=15.0.0 in /anaconda/envs/automl-env/lib/python3.9/site-packages (from azureml-core~=1.59.0->azureml-sdk[automl]) (23.3.0)\n",
            "Requirement already satisfied: azure-mgmt-containerregistry<11,>=8.2.0 in /anaconda/envs/automl-env/lib/python3.9/site-packages (from azureml-core~=1.59.0->azureml-sdk[automl]) (10.3.0)\n",
            "Requirement already satisfied: azure-mgmt-storage<=22.0.0,>=16.0.0 in /anaconda/envs/automl-env/lib/python3.9/site-packages (from azureml-core~=1.59.0->azureml-sdk[automl]) (22.0.0)\n",
            "Requirement already satisfied: azure-mgmt-keyvault<11.0.0,>=0.40.0 in /anaconda/envs/automl-env/lib/python3.9/site-packages (from azureml-core~=1.59.0->azureml-sdk[automl]) (10.3.1)\n",
            "Requirement already satisfied: azure-mgmt-authorization<5,>=0.40.0 in /anaconda/envs/automl-env/lib/python3.9/site-packages (from azureml-core~=1.59.0->azureml-sdk[automl]) (4.0.0)\n",
            "Requirement already satisfied: azure-mgmt-network<=29.0.0 in /anaconda/envs/automl-env/lib/python3.9/site-packages (from azureml-core~=1.59.0->azureml-sdk[automl]) (28.1.0)\n",
            "Requirement already satisfied: azure-graphrbac<1.0.0,>=0.40.0 in /anaconda/envs/automl-env/lib/python3.9/site-packages (from azureml-core~=1.59.0->azureml-sdk[automl]) (0.61.2)\n",
            "Requirement already satisfied: azure-common<2.0.0,>=1.1.12 in /anaconda/envs/automl-env/lib/python3.9/site-packages (from azureml-core~=1.59.0->azureml-sdk[automl]) (1.1.28)\n",
            "Requirement already satisfied: msrest<=0.7.1,>=0.5.1 in /anaconda/envs/automl-env/lib/python3.9/site-packages (from azureml-core~=1.59.0->azureml-sdk[automl]) (0.7.1)\n",
            "Requirement already satisfied: msrestazure<=0.7,>=0.4.33 in /anaconda/envs/automl-env/lib/python3.9/site-packages (from azureml-core~=1.59.0->azureml-sdk[automl]) (0.6.4.post1)\n",
            "Requirement already satisfied: urllib3<3.0.0,>1.26.17 in /anaconda/envs/automl-env/lib/python3.9/site-packages (from azureml-core~=1.59.0->azureml-sdk[automl]) (1.26.20)\n",
            "Requirement already satisfied: packaging<=25.0,>=20.0 in /anaconda/envs/automl-env/lib/python3.9/site-packages (from azureml-core~=1.59.0->azureml-sdk[automl]) (24.2)\n",
            "Requirement already satisfied: python-dateutil<3.0.0,>=2.7.3 in /anaconda/envs/automl-env/lib/python3.9/site-packages (from azureml-core~=1.59.0->azureml-sdk[automl]) (2.9.0.post0)\n",
            "Requirement already satisfied: ndg-httpsclient<=0.5.1 in /anaconda/envs/automl-env/lib/python3.9/site-packages (from azureml-core~=1.59.0->azureml-sdk[automl]) (0.5.1)\n",
            "Requirement already satisfied: SecretStorage<4.0.0 in /anaconda/envs/automl-env/lib/python3.9/site-packages (from azureml-core~=1.59.0->azureml-sdk[automl]) (3.3.3)\n",
            "Requirement already satisfied: jsonpickle<5.0.0 in /anaconda/envs/automl-env/lib/python3.9/site-packages (from azureml-core~=1.59.0->azureml-sdk[automl]) (4.0.5)\n",
            "Requirement already satisfied: contextlib2<22.0.0 in /anaconda/envs/automl-env/lib/python3.9/site-packages (from azureml-core~=1.59.0->azureml-sdk[automl]) (21.6.0)\n",
            "Requirement already satisfied: docker<8.0.0 in /anaconda/envs/automl-env/lib/python3.9/site-packages (from azureml-core~=1.59.0->azureml-sdk[automl]) (7.1.0)\n",
            "Requirement already satisfied: PyJWT<3.0.0 in /anaconda/envs/automl-env/lib/python3.9/site-packages (from azureml-core~=1.59.0->azureml-sdk[automl]) (2.10.1)\n",
            "Requirement already satisfied: adal<=1.2.7,>=1.2.0 in /anaconda/envs/automl-env/lib/python3.9/site-packages (from azureml-core~=1.59.0->azureml-sdk[automl]) (1.2.7)\n",
            "Requirement already satisfied: pyopenssl<25.0.0 in /anaconda/envs/automl-env/lib/python3.9/site-packages (from azureml-core~=1.59.0->azureml-sdk[automl]) (24.3.0)\n",
            "Requirement already satisfied: jmespath<2.0.0 in /anaconda/envs/automl-env/lib/python3.9/site-packages (from azureml-core~=1.59.0->azureml-sdk[automl]) (0.10.0)\n",
            "Requirement already satisfied: cryptography>=1.1.0 in /anaconda/envs/automl-env/lib/python3.9/site-packages (from adal<=1.2.7,>=1.2.0->azureml-core~=1.59.0->azureml-sdk[automl]) (44.0.3)\n",
            "Requirement already satisfied: six>=1.11.0 in /anaconda/envs/automl-env/lib/python3.9/site-packages (from azure-core<2.0.0->azureml-core~=1.59.0->azureml-sdk[automl]) (1.17.0)\n",
            "Requirement already satisfied: typing-extensions>=4.6.0 in /anaconda/envs/automl-env/lib/python3.9/site-packages (from azure-core<2.0.0->azureml-core~=1.59.0->azureml-sdk[automl]) (4.13.2)\n",
            "Requirement already satisfied: isodate<1.0.0,>=0.6.1 in /anaconda/envs/automl-env/lib/python3.9/site-packages (from azure-mgmt-authorization<5,>=0.40.0->azureml-core~=1.59.0->azureml-sdk[automl]) (0.7.2)\n",
            "Requirement already satisfied: azure-mgmt-core<2.0.0,>=1.3.2 in /anaconda/envs/automl-env/lib/python3.9/site-packages (from azure-mgmt-authorization<5,>=0.40.0->azureml-core~=1.59.0->azureml-sdk[automl]) (1.5.0)\n",
            "Requirement already satisfied: azureml-dataprep<5.2.0a,>=5.1.0a in /anaconda/envs/automl-env/lib/python3.9/site-packages (from azureml-dataset-runtime~=1.59.0->azureml-dataset-runtime[fuse]~=1.59.0->azureml-sdk[automl]) (5.1.6)\n",
            "Requirement already satisfied: pyarrow>=0.17.0 in /anaconda/envs/automl-env/lib/python3.9/site-packages (from azureml-dataset-runtime~=1.59.0->azureml-dataset-runtime[fuse]~=1.59.0->azureml-sdk[automl]) (14.0.2)\n",
            "Requirement already satisfied: numpy!=1.19.3,<1.24 in /anaconda/envs/automl-env/lib/python3.9/site-packages (from azureml-dataset-runtime~=1.59.0->azureml-dataset-runtime[fuse]~=1.59.0->azureml-sdk[automl]) (1.23.5)\n",
            "Requirement already satisfied: azureml-dataprep-native<42.0.0,>=41.0.0 in /anaconda/envs/automl-env/lib/python3.9/site-packages (from azureml-dataprep<5.2.0a,>=5.1.0a->azureml-dataset-runtime~=1.59.0->azureml-dataset-runtime[fuse]~=1.59.0->azureml-sdk[automl]) (41.0.0)\n",
            "Requirement already satisfied: azureml-dataprep-rslex~=2.22.2dev0 in /anaconda/envs/automl-env/lib/python3.9/site-packages (from azureml-dataprep<5.2.0a,>=5.1.0a->azureml-dataset-runtime~=1.59.0->azureml-dataset-runtime[fuse]~=1.59.0->azureml-sdk[automl]) (2.22.5)\n",
            "Requirement already satisfied: cloudpickle<3.0.0,>=1.1.0 in /anaconda/envs/automl-env/lib/python3.9/site-packages (from azureml-dataprep<5.2.0a,>=5.1.0a->azureml-dataset-runtime~=1.59.0->azureml-dataset-runtime[fuse]~=1.59.0->azureml-sdk[automl]) (2.2.1)\n",
            "Requirement already satisfied: azure-identity>=1.7.0 in /anaconda/envs/automl-env/lib/python3.9/site-packages (from azureml-dataprep<5.2.0a,>=5.1.0a->azureml-dataset-runtime~=1.59.0->azureml-dataset-runtime[fuse]~=1.59.0->azureml-sdk[automl]) (1.23.0)\n",
            "Requirement already satisfied: jsonschema in /anaconda/envs/automl-env/lib/python3.9/site-packages (from azureml-dataprep<5.2.0a,>=5.1.0a->azureml-dataset-runtime~=1.59.0->azureml-dataset-runtime[fuse]~=1.59.0->azureml-sdk[automl]) (4.23.0)\n",
            "Requirement already satisfied: pyyaml<7.0.0,>=5.1.0 in /anaconda/envs/automl-env/lib/python3.9/site-packages (from azureml-dataprep<5.2.0a,>=5.1.0a->azureml-dataset-runtime~=1.59.0->azureml-dataset-runtime[fuse]~=1.59.0->azureml-sdk[automl]) (6.0.2)\n",
            "Requirement already satisfied: fusepy<4.0.0,>=3.0.1 in /anaconda/envs/automl-env/lib/python3.9/site-packages (from azureml-dataset-runtime[fuse]~=1.59.0->azureml-sdk[automl]) (3.0.1)\n",
            "Requirement already satisfied: azureml-pipeline-core~=1.59.0 in /anaconda/envs/automl-env/lib/python3.9/site-packages (from azureml-pipeline~=1.59.0->azureml-sdk[automl]) (1.59.0)\n",
            "Requirement already satisfied: azureml-pipeline-steps~=1.59.0 in /anaconda/envs/automl-env/lib/python3.9/site-packages (from azureml-pipeline~=1.59.0->azureml-sdk[automl]) (1.59.0)\n",
            "Requirement already satisfied: azureml-automl-core~=1.59.0 in /anaconda/envs/automl-env/lib/python3.9/site-packages (from azureml-train-automl~=1.59.0->azureml-sdk[automl]) (1.59.0)\n",
            "Requirement already satisfied: azureml-automl-runtime~=1.59.0 in /anaconda/envs/automl-env/lib/python3.9/site-packages (from azureml-train-automl~=1.59.0->azureml-sdk[automl]) (1.59.0)\n",
            "Requirement already satisfied: azureml-train-automl-runtime~=1.59.0 in /anaconda/envs/automl-env/lib/python3.9/site-packages (from azureml-train-automl~=1.59.0->azureml-sdk[automl]) (1.59.0)\n",
            "Requirement already satisfied: azureml-responsibleai~=1.59.0 in /anaconda/envs/automl-env/lib/python3.9/site-packages (from azureml-train-automl~=1.59.0->azureml-sdk[automl]) (1.59.0)\n",
            "Requirement already satisfied: azureml-telemetry~=1.59.0 in /anaconda/envs/automl-env/lib/python3.9/site-packages (from azureml-automl-core~=1.59.0->azureml-train-automl~=1.59.0->azureml-sdk[automl]) (1.59.0)\n",
            "Requirement already satisfied: importlib-metadata<=8.2.0 in /anaconda/envs/automl-env/lib/python3.9/site-packages (from azureml-automl-core~=1.59.0->azureml-train-automl~=1.59.0->azureml-sdk[automl]) (8.2.0)\n",
            "Requirement already satisfied: importlib-resources<=6.4.0 in /anaconda/envs/automl-env/lib/python3.9/site-packages (from azureml-automl-core~=1.59.0->azureml-train-automl~=1.59.0->azureml-sdk[automl]) (6.4.0)\n",
            "Requirement already satisfied: azureml-training-tabular~=1.59.0 in /anaconda/envs/automl-env/lib/python3.9/site-packages (from azureml-automl-runtime~=1.59.0->azureml-train-automl~=1.59.0->azureml-sdk[automl]) (1.59.0)\n",
            "Requirement already satisfied: dill<0.4.0,>=0.2.8 in /anaconda/envs/automl-env/lib/python3.9/site-packages (from azureml-automl-runtime~=1.59.0->azureml-train-automl~=1.59.0->azureml-sdk[automl]) (0.3.9)\n",
            "Requirement already satisfied: gensim==4.3.2 in /anaconda/envs/automl-env/lib/python3.9/site-packages (from azureml-automl-runtime~=1.59.0->azureml-train-automl~=1.59.0->azureml-sdk[automl]) (4.3.2)\n",
            "Requirement already satisfied: smart-open==6.4.0 in /anaconda/envs/automl-env/lib/python3.9/site-packages (from azureml-automl-runtime~=1.59.0->azureml-train-automl~=1.59.0->azureml-sdk[automl]) (6.4.0)\n",
            "Requirement already satisfied: lightgbm<=3.2.1,>=3.0.0 in /anaconda/envs/automl-env/lib/python3.9/site-packages (from azureml-automl-runtime~=1.59.0->azureml-train-automl~=1.59.0->azureml-sdk[automl]) (3.2.1)\n",
            "Requirement already satisfied: pandas==1.5.3 in /anaconda/envs/automl-env/lib/python3.9/site-packages (from azureml-automl-runtime~=1.59.0->azureml-train-automl~=1.59.0->azureml-sdk[automl]) (1.5.3)\n",
            "Requirement already satisfied: psutil<5.9.4,>=5.2.2 in /anaconda/envs/automl-env/lib/python3.9/site-packages (from azureml-automl-runtime~=1.59.0->azureml-train-automl~=1.59.0->azureml-sdk[automl]) (5.9.3)\n",
            "Requirement already satisfied: scipy<=1.11.0,>=1.0.0 in /anaconda/envs/automl-env/lib/python3.9/site-packages (from azureml-automl-runtime~=1.59.0->azureml-train-automl~=1.59.0->azureml-sdk[automl]) (1.10.1)\n",
            "Requirement already satisfied: scikit-learn~=1.5.1 in /anaconda/envs/automl-env/lib/python3.9/site-packages (from azureml-automl-runtime~=1.59.0->azureml-train-automl~=1.59.0->azureml-sdk[automl]) (1.5.1)\n",
            "Requirement already satisfied: sklearn_pandas<=1.7.0,>=1.4.0 in /anaconda/envs/automl-env/lib/python3.9/site-packages (from azureml-automl-runtime~=1.59.0->azureml-train-automl~=1.59.0->azureml-sdk[automl]) (1.7.0)\n",
            "Requirement already satisfied: statsmodels<0.14,>=0.13.0 in /anaconda/envs/automl-env/lib/python3.9/site-packages (from azureml-automl-runtime~=1.59.0->azureml-train-automl~=1.59.0->azureml-sdk[automl]) (0.13.5)\n",
            "Requirement already satisfied: skl2onnx==1.15.0 in /anaconda/envs/automl-env/lib/python3.9/site-packages (from azureml-automl-runtime~=1.59.0->azureml-train-automl~=1.59.0->azureml-sdk[automl]) (1.15.0)\n",
            "Requirement already satisfied: onnxmltools==1.11.2 in /anaconda/envs/automl-env/lib/python3.9/site-packages (from azureml-automl-runtime~=1.59.0->azureml-train-automl~=1.59.0->azureml-sdk[automl]) (1.11.2)\n",
            "Requirement already satisfied: keras2onnx<=1.6.0,>=1.4.0 in /anaconda/envs/automl-env/lib/python3.9/site-packages (from azureml-automl-runtime~=1.59.0->azureml-train-automl~=1.59.0->azureml-sdk[automl]) (1.6.0)\n",
            "Requirement already satisfied: onnxconverter-common==1.13.0 in /anaconda/envs/automl-env/lib/python3.9/site-packages (from azureml-automl-runtime~=1.59.0->azureml-train-automl~=1.59.0->azureml-sdk[automl]) (1.13.0)\n",
            "Requirement already satisfied: onnx<=1.17.0,>=1.16.1 in /anaconda/envs/automl-env/lib/python3.9/site-packages (from azureml-automl-runtime~=1.59.0->azureml-train-automl~=1.59.0->azureml-sdk[automl]) (1.17.0)\n",
            "Requirement already satisfied: onnxruntime~=1.17.3 in /anaconda/envs/automl-env/lib/python3.9/site-packages (from azureml-automl-runtime~=1.59.0->azureml-train-automl~=1.59.0->azureml-sdk[automl]) (1.17.3)\n",
            "Requirement already satisfied: pmdarima==1.8.5 in /anaconda/envs/automl-env/lib/python3.9/site-packages (from azureml-automl-runtime~=1.59.0->azureml-train-automl~=1.59.0->azureml-sdk[automl]) (1.8.5)\n",
            "Requirement already satisfied: joblib==1.2.0 in /anaconda/envs/automl-env/lib/python3.9/site-packages (from azureml-automl-runtime~=1.59.0->azureml-train-automl~=1.59.0->azureml-sdk[automl]) (1.2.0)\n",
            "Requirement already satisfied: boto3<=1.20.19 in /anaconda/envs/automl-env/lib/python3.9/site-packages (from azureml-automl-runtime~=1.59.0->azureml-train-automl~=1.59.0->azureml-sdk[automl]) (1.20.19)\n",
            "Requirement already satisfied: botocore<=1.23.19 in /anaconda/envs/automl-env/lib/python3.9/site-packages (from azureml-automl-runtime~=1.59.0->azureml-train-automl~=1.59.0->azureml-sdk[automl]) (1.23.19)\n",
            "Requirement already satisfied: dataclasses<=0.8,>=0.6 in /anaconda/envs/automl-env/lib/python3.9/site-packages (from azureml-automl-runtime~=1.59.0->azureml-train-automl~=1.59.0->azureml-sdk[automl]) (0.6)\n",
            "Requirement already satisfied: arch<=5.6.0 in /anaconda/envs/automl-env/lib/python3.9/site-packages (from azureml-automl-runtime~=1.59.0->azureml-train-automl~=1.59.0->azureml-sdk[automl]) (5.6.0)\n",
            "Requirement already satisfied: dotnetcore2<4.0.0,>=3.0.0 in /anaconda/envs/automl-env/lib/python3.9/site-packages (from azureml-automl-runtime~=1.59.0->azureml-train-automl~=1.59.0->azureml-sdk[automl]) (3.1.23)\n",
            "Requirement already satisfied: protobuf in /anaconda/envs/automl-env/lib/python3.9/site-packages (from onnxconverter-common==1.13.0->azureml-automl-runtime~=1.59.0->azureml-train-automl~=1.59.0->azureml-sdk[automl]) (5.28.3)\n",
            "Requirement already satisfied: Cython!=0.29.18,>=0.29 in /anaconda/envs/automl-env/lib/python3.9/site-packages (from pmdarima==1.8.5->azureml-automl-runtime~=1.59.0->azureml-train-automl~=1.59.0->azureml-sdk[automl]) (3.1.0)\n",
            "Requirement already satisfied: setuptools!=50.0.0,>=38.6.0 in /anaconda/envs/automl-env/lib/python3.9/site-packages (from pmdarima==1.8.5->azureml-automl-runtime~=1.59.0->azureml-train-automl~=1.59.0->azureml-sdk[automl]) (78.1.1)\n",
            "Requirement already satisfied: property-cached>=1.6.4 in /anaconda/envs/automl-env/lib/python3.9/site-packages (from arch<=5.6.0->azureml-automl-runtime~=1.59.0->azureml-train-automl~=1.59.0->azureml-sdk[automl]) (1.6.4)\n",
            "Requirement already satisfied: azureml-interpret~=1.59.0 in /anaconda/envs/automl-env/lib/python3.9/site-packages (from azureml-responsibleai~=1.59.0->azureml-train-automl~=1.59.0->azureml-sdk[automl]) (1.59.0)\n",
            "Requirement already satisfied: fairlearn==0.7.0 in /anaconda/envs/automl-env/lib/python3.9/site-packages (from azureml-responsibleai~=1.59.0->azureml-train-automl~=1.59.0->azureml-sdk[automl]) (0.7.0)\n",
            "Requirement already satisfied: responsibleai==0.36.0 in /anaconda/envs/automl-env/lib/python3.9/site-packages (from azureml-responsibleai~=1.59.0->azureml-train-automl~=1.59.0->azureml-sdk[automl]) (0.36.0)\n",
            "Requirement already satisfied: dice-ml<0.12,>=0.11 in /anaconda/envs/automl-env/lib/python3.9/site-packages (from responsibleai==0.36.0->azureml-responsibleai~=1.59.0->azureml-train-automl~=1.59.0->azureml-sdk[automl]) (0.11)\n",
            "Requirement already satisfied: econml>=0.14.1 in /anaconda/envs/automl-env/lib/python3.9/site-packages (from responsibleai==0.36.0->azureml-responsibleai~=1.59.0->azureml-train-automl~=1.59.0->azureml-sdk[automl]) (0.15.1)\n",
            "Requirement already satisfied: erroranalysis>=0.5.4 in /anaconda/envs/automl-env/lib/python3.9/site-packages (from responsibleai==0.36.0->azureml-responsibleai~=1.59.0->azureml-train-automl~=1.59.0->azureml-sdk[automl]) (0.5.5)\n",
            "Requirement already satisfied: interpret-community>=0.31.0 in /anaconda/envs/automl-env/lib/python3.9/site-packages (from responsibleai==0.36.0->azureml-responsibleai~=1.59.0->azureml-train-automl~=1.59.0->azureml-sdk[automl]) (0.31.0)\n",
            "Requirement already satisfied: numba<=0.58.1 in /anaconda/envs/automl-env/lib/python3.9/site-packages (from responsibleai==0.36.0->azureml-responsibleai~=1.59.0->azureml-train-automl~=1.59.0->azureml-sdk[automl]) (0.56.4)\n",
            "Requirement already satisfied: semver~=2.13.0 in /anaconda/envs/automl-env/lib/python3.9/site-packages (from responsibleai==0.36.0->azureml-responsibleai~=1.59.0->azureml-train-automl~=1.59.0->azureml-sdk[automl]) (2.13.0)\n",
            "Requirement already satisfied: ml-wrappers in /anaconda/envs/automl-env/lib/python3.9/site-packages (from responsibleai==0.36.0->azureml-responsibleai~=1.59.0->azureml-train-automl~=1.59.0->azureml-sdk[automl]) (0.5.6)\n",
            "Requirement already satisfied: networkx<=2.5 in /anaconda/envs/automl-env/lib/python3.9/site-packages (from responsibleai==0.36.0->azureml-responsibleai~=1.59.0->azureml-train-automl~=1.59.0->azureml-sdk[automl]) (2.5)\n",
            "Requirement already satisfied: raiutils>=0.4.2 in /anaconda/envs/automl-env/lib/python3.9/site-packages (from responsibleai==0.36.0->azureml-responsibleai~=1.59.0->azureml-train-automl~=1.59.0->azureml-sdk[automl]) (0.4.2)\n",
            "Requirement already satisfied: ipykernel>=6.22.0 in /anaconda/envs/automl-env/lib/python3.9/site-packages (from responsibleai==0.36.0->azureml-responsibleai~=1.59.0->azureml-train-automl~=1.59.0->azureml-sdk[automl]) (6.29.5)\n",
            "Requirement already satisfied: applicationinsights in /anaconda/envs/automl-env/lib/python3.9/site-packages (from azureml-telemetry~=1.59.0->azureml-automl-core~=1.59.0->azureml-train-automl~=1.59.0->azureml-sdk[automl]) (0.11.10)\n",
            "Requirement already satisfied: azure-storage-queue~=12.1 in /anaconda/envs/automl-env/lib/python3.9/site-packages (from azureml-train-automl-runtime~=1.59.0->azureml-train-automl~=1.59.0->azureml-sdk[automl]) (12.12.0)\n",
            "Requirement already satisfied: jinja2<4 in /anaconda/envs/automl-env/lib/python3.9/site-packages (from azureml-train-automl-runtime~=1.59.0->azureml-train-automl~=1.59.0->azureml-sdk[automl]) (3.1.6)\n",
            "Requirement already satisfied: dask<=2023.2.0 in /anaconda/envs/automl-env/lib/python3.9/site-packages (from dask[complete]<=2023.2.0->azureml-train-automl-runtime~=1.59.0->azureml-train-automl~=1.59.0->azureml-sdk[automl]) (2023.2.0)\n",
            "Requirement already satisfied: bokeh<3.0.0 in /anaconda/envs/automl-env/lib/python3.9/site-packages (from azureml-train-automl-runtime~=1.59.0->azureml-train-automl~=1.59.0->azureml-sdk[automl]) (2.4.3)\n",
            "Requirement already satisfied: azureml-mlflow~=1.59.0 in /anaconda/envs/automl-env/lib/python3.9/site-packages (from azureml-train-automl-runtime~=1.59.0->azureml-train-automl~=1.59.0->azureml-sdk[automl]) (1.59.0.post1)\n",
            "Requirement already satisfied: mlflow-skinny in /anaconda/envs/automl-env/lib/python3.9/site-packages (from azureml-mlflow~=1.59.0->azureml-train-automl-runtime~=1.59.0->azureml-train-automl~=1.59.0->azureml-sdk[automl]) (2.22.0)\n",
            "Requirement already satisfied: azure-storage-blob<=12.19.0,>=12.5.0 in /anaconda/envs/automl-env/lib/python3.9/site-packages (from azureml-mlflow~=1.59.0->azureml-train-automl-runtime~=1.59.0->azureml-train-automl~=1.59.0->azureml-sdk[automl]) (12.19.0)\n",
            "Requirement already satisfied: azureml-train-restclients-hyperdrive~=1.59.0 in /anaconda/envs/automl-env/lib/python3.9/site-packages (from azureml-train-core~=1.59.0->azureml-sdk[automl]) (1.59.0)\n",
            "Requirement already satisfied: pillow>=7.1.0 in /anaconda/envs/automl-env/lib/python3.9/site-packages (from bokeh<3.0.0->azureml-train-automl-runtime~=1.59.0->azureml-train-automl~=1.59.0->azureml-sdk[automl]) (11.2.1)\n",
            "Requirement already satisfied: tornado>=5.1 in /anaconda/envs/automl-env/lib/python3.9/site-packages (from bokeh<3.0.0->azureml-train-automl-runtime~=1.59.0->azureml-train-automl~=1.59.0->azureml-sdk[automl]) (6.5)\n",
            "Requirement already satisfied: s3transfer<0.6.0,>=0.5.0 in /anaconda/envs/automl-env/lib/python3.9/site-packages (from boto3<=1.20.19->azureml-automl-runtime~=1.59.0->azureml-train-automl~=1.59.0->azureml-sdk[automl]) (0.5.2)\n",
            "Requirement already satisfied: click>=7.0 in /anaconda/envs/automl-env/lib/python3.9/site-packages (from dask<=2023.2.0->dask[complete]<=2023.2.0->azureml-train-automl-runtime~=1.59.0->azureml-train-automl~=1.59.0->azureml-sdk[automl]) (8.1.8)\n",
            "Requirement already satisfied: fsspec>=0.6.0 in /anaconda/envs/automl-env/lib/python3.9/site-packages (from dask<=2023.2.0->dask[complete]<=2023.2.0->azureml-train-automl-runtime~=1.59.0->azureml-train-automl~=1.59.0->azureml-sdk[automl]) (2025.3.2)\n",
            "Requirement already satisfied: partd>=0.3.10 in /anaconda/envs/automl-env/lib/python3.9/site-packages (from dask<=2023.2.0->dask[complete]<=2023.2.0->azureml-train-automl-runtime~=1.59.0->azureml-train-automl~=1.59.0->azureml-sdk[automl]) (1.4.2)\n",
            "Requirement already satisfied: toolz>=0.8.2 in /anaconda/envs/automl-env/lib/python3.9/site-packages (from dask<=2023.2.0->dask[complete]<=2023.2.0->azureml-train-automl-runtime~=1.59.0->azureml-train-automl~=1.59.0->azureml-sdk[automl]) (1.0.0)\n",
            "Requirement already satisfied: distributed==2023.2.0 in /anaconda/envs/automl-env/lib/python3.9/site-packages (from dask[complete]<=2023.2.0->azureml-train-automl-runtime~=1.59.0->azureml-train-automl~=1.59.0->azureml-sdk[automl]) (2023.2.0)\n",
            "Requirement already satisfied: locket>=1.0.0 in /anaconda/envs/automl-env/lib/python3.9/site-packages (from distributed==2023.2.0->dask[complete]<=2023.2.0->azureml-train-automl-runtime~=1.59.0->azureml-train-automl~=1.59.0->azureml-sdk[automl]) (1.0.0)\n",
            "Requirement already satisfied: msgpack>=1.0.0 in /anaconda/envs/automl-env/lib/python3.9/site-packages (from distributed==2023.2.0->dask[complete]<=2023.2.0->azureml-train-automl-runtime~=1.59.0->azureml-train-automl~=1.59.0->azureml-sdk[automl]) (1.1.0)\n",
            "Requirement already satisfied: sortedcontainers>=2.0.5 in /anaconda/envs/automl-env/lib/python3.9/site-packages (from distributed==2023.2.0->dask[complete]<=2023.2.0->azureml-train-automl-runtime~=1.59.0->azureml-train-automl~=1.59.0->azureml-sdk[automl]) (2.4.0)\n",
            "Requirement already satisfied: tblib>=1.6.0 in /anaconda/envs/automl-env/lib/python3.9/site-packages (from distributed==2023.2.0->dask[complete]<=2023.2.0->azureml-train-automl-runtime~=1.59.0->azureml-train-automl~=1.59.0->azureml-sdk[automl]) (3.1.0)\n",
            "Requirement already satisfied: zict>=2.1.0 in /anaconda/envs/automl-env/lib/python3.9/site-packages (from distributed==2023.2.0->dask[complete]<=2023.2.0->azureml-train-automl-runtime~=1.59.0->azureml-train-automl~=1.59.0->azureml-sdk[automl]) (3.0.0)\n",
            "Requirement already satisfied: tqdm in /anaconda/envs/automl-env/lib/python3.9/site-packages (from dice-ml<0.12,>=0.11->responsibleai==0.36.0->azureml-responsibleai~=1.59.0->azureml-train-automl~=1.59.0->azureml-sdk[automl]) (4.67.1)\n",
            "Requirement already satisfied: distro>=1.2.0 in /anaconda/envs/automl-env/lib/python3.9/site-packages (from dotnetcore2<4.0.0,>=3.0.0->azureml-automl-runtime~=1.59.0->azureml-train-automl~=1.59.0->azureml-sdk[automl]) (1.9.0)\n",
            "Requirement already satisfied: zipp>=0.5 in /anaconda/envs/automl-env/lib/python3.9/site-packages (from importlib-metadata<=8.2.0->azureml-automl-core~=1.59.0->azureml-train-automl~=1.59.0->azureml-sdk[automl]) (3.21.0)\n",
            "Requirement already satisfied: shap<=0.44.0,>=0.20.0 in /anaconda/envs/automl-env/lib/python3.9/site-packages (from interpret-community>=0.31.0->responsibleai==0.36.0->azureml-responsibleai~=1.59.0->azureml-train-automl~=1.59.0->azureml-sdk[automl]) (0.43.0)\n",
            "Requirement already satisfied: interpret-core<=0.5.0,>=0.1.20 in /anaconda/envs/automl-env/lib/python3.9/site-packages (from interpret-community>=0.31.0->responsibleai==0.36.0->azureml-responsibleai~=1.59.0->azureml-train-automl~=1.59.0->azureml-sdk[automl]) (0.5.0)\n",
            "Requirement already satisfied: MarkupSafe>=2.0 in /anaconda/envs/automl-env/lib/python3.9/site-packages (from jinja2<4->azureml-train-automl-runtime~=1.59.0->azureml-train-automl~=1.59.0->azureml-sdk[automl]) (3.0.2)\n",
            "Requirement already satisfied: fire in /anaconda/envs/automl-env/lib/python3.9/site-packages (from keras2onnx<=1.6.0,>=1.4.0->azureml-automl-runtime~=1.59.0->azureml-train-automl~=1.59.0->azureml-sdk[automl]) (0.7.0)\n",
            "Requirement already satisfied: pygments in /anaconda/envs/automl-env/lib/python3.9/site-packages (from knack<0.13.0->azureml-core~=1.59.0->azureml-sdk[automl]) (2.19.1)\n",
            "Requirement already satisfied: tabulate in /anaconda/envs/automl-env/lib/python3.9/site-packages (from knack<0.13.0->azureml-core~=1.59.0->azureml-sdk[automl]) (0.9.0)\n",
            "Requirement already satisfied: wheel in /anaconda/envs/automl-env/lib/python3.9/site-packages (from lightgbm<=3.2.1,>=3.0.0->azureml-automl-runtime~=1.59.0->azureml-train-automl~=1.59.0->azureml-sdk[automl]) (0.45.1)\n",
            "Requirement already satisfied: cffi>=1.12 in /anaconda/envs/automl-env/lib/python3.9/site-packages (from cryptography>=1.1.0->adal<=1.2.7,>=1.2.0->azureml-core~=1.59.0->azureml-sdk[automl]) (1.17.1)\n",
            "Requirement already satisfied: certifi>=2017.4.17 in /anaconda/envs/automl-env/lib/python3.9/site-packages (from msrest<=0.7.1,>=0.5.1->azureml-core~=1.59.0->azureml-sdk[automl]) (2025.4.26)\n",
            "Requirement already satisfied: requests-oauthlib>=0.5.0 in /anaconda/envs/automl-env/lib/python3.9/site-packages (from msrest<=0.7.1,>=0.5.1->azureml-core~=1.59.0->azureml-sdk[automl]) (2.0.0)\n",
            "Requirement already satisfied: pyasn1>=0.1.1 in /anaconda/envs/automl-env/lib/python3.9/site-packages (from ndg-httpsclient<=0.5.1->azureml-core~=1.59.0->azureml-sdk[automl]) (0.6.1)\n",
            "Requirement already satisfied: decorator>=4.3.0 in /anaconda/envs/automl-env/lib/python3.9/site-packages (from networkx<=2.5->responsibleai==0.36.0->azureml-responsibleai~=1.59.0->azureml-train-automl~=1.59.0->azureml-sdk[automl]) (5.2.1)\n",
            "Requirement already satisfied: llvmlite<0.40,>=0.39.0dev0 in /anaconda/envs/automl-env/lib/python3.9/site-packages (from numba<=0.58.1->responsibleai==0.36.0->azureml-responsibleai~=1.59.0->azureml-train-automl~=1.59.0->azureml-sdk[automl]) (0.39.1)\n",
            "Requirement already satisfied: coloredlogs in /anaconda/envs/automl-env/lib/python3.9/site-packages (from onnxruntime~=1.17.3->azureml-automl-runtime~=1.59.0->azureml-train-automl~=1.59.0->azureml-sdk[automl]) (15.0.1)\n",
            "Requirement already satisfied: flatbuffers in /anaconda/envs/automl-env/lib/python3.9/site-packages (from onnxruntime~=1.17.3->azureml-automl-runtime~=1.59.0->azureml-train-automl~=1.59.0->azureml-sdk[automl]) (25.2.10)\n",
            "Requirement already satisfied: sympy in /anaconda/envs/automl-env/lib/python3.9/site-packages (from onnxruntime~=1.17.3->azureml-automl-runtime~=1.59.0->azureml-train-automl~=1.59.0->azureml-sdk[automl]) (1.14.0)\n",
            "Requirement already satisfied: bcrypt>=3.2 in /anaconda/envs/automl-env/lib/python3.9/site-packages (from paramiko<4.0.0,>=2.0.8->azureml-core~=1.59.0->azureml-sdk[automl]) (4.3.0)\n",
            "Requirement already satisfied: pynacl>=1.5 in /anaconda/envs/automl-env/lib/python3.9/site-packages (from paramiko<4.0.0,>=2.0.8->azureml-core~=1.59.0->azureml-sdk[automl]) (1.5.0)\n",
            "Requirement already satisfied: charset-normalizer<4,>=2 in /anaconda/envs/automl-env/lib/python3.9/site-packages (from requests<3.0.0,>=2.19.1->requests[socks]<3.0.0,>=2.19.1->azureml-core~=1.59.0->azureml-sdk[automl]) (3.4.2)\n",
            "Requirement already satisfied: idna<4,>=2.5 in /anaconda/envs/automl-env/lib/python3.9/site-packages (from requests<3.0.0,>=2.19.1->requests[socks]<3.0.0,>=2.19.1->azureml-core~=1.59.0->azureml-sdk[automl]) (3.10)\n",
            "Requirement already satisfied: PySocks!=1.5.7,>=1.5.6 in /anaconda/envs/automl-env/lib/python3.9/site-packages (from requests[socks]<3.0.0,>=2.19.1->azureml-core~=1.59.0->azureml-sdk[automl]) (1.7.1)\n",
            "Requirement already satisfied: threadpoolctl>=3.1.0 in /anaconda/envs/automl-env/lib/python3.9/site-packages (from scikit-learn~=1.5.1->azureml-automl-runtime~=1.59.0->azureml-train-automl~=1.59.0->azureml-sdk[automl]) (3.6.0)\n",
            "Requirement already satisfied: jeepney>=0.6 in /anaconda/envs/automl-env/lib/python3.9/site-packages (from SecretStorage<4.0.0->azureml-core~=1.59.0->azureml-sdk[automl]) (0.9.0)\n",
            "Requirement already satisfied: slicer==0.0.7 in /anaconda/envs/automl-env/lib/python3.9/site-packages (from shap<=0.44.0,>=0.20.0->interpret-community>=0.31.0->responsibleai==0.36.0->azureml-responsibleai~=1.59.0->azureml-train-automl~=1.59.0->azureml-sdk[automl]) (0.0.7)\n",
            "Requirement already satisfied: patsy>=0.5.2 in /anaconda/envs/automl-env/lib/python3.9/site-packages (from statsmodels<0.14,>=0.13.0->azureml-automl-runtime~=1.59.0->azureml-train-automl~=1.59.0->azureml-sdk[automl]) (1.0.1)\n",
            "Requirement already satisfied: pycparser in /anaconda/envs/automl-env/lib/python3.9/site-packages (from cffi>=1.12->cryptography>=1.1.0->adal<=1.2.7,>=1.2.0->azureml-core~=1.59.0->azureml-sdk[automl]) (2.22)\n",
            "Requirement already satisfied: sparse in /anaconda/envs/automl-env/lib/python3.9/site-packages (from econml>=0.14.1->responsibleai==0.36.0->azureml-responsibleai~=1.59.0->azureml-train-automl~=1.59.0->azureml-sdk[automl]) (0.15.5)\n",
            "Requirement already satisfied: comm>=0.1.1 in /anaconda/envs/automl-env/lib/python3.9/site-packages (from ipykernel>=6.22.0->responsibleai==0.36.0->azureml-responsibleai~=1.59.0->azureml-train-automl~=1.59.0->azureml-sdk[automl]) (0.2.2)\n",
            "Requirement already satisfied: debugpy>=1.6.5 in /anaconda/envs/automl-env/lib/python3.9/site-packages (from ipykernel>=6.22.0->responsibleai==0.36.0->azureml-responsibleai~=1.59.0->azureml-train-automl~=1.59.0->azureml-sdk[automl]) (1.8.14)\n",
            "Requirement already satisfied: ipython>=7.23.1 in /anaconda/envs/automl-env/lib/python3.9/site-packages (from ipykernel>=6.22.0->responsibleai==0.36.0->azureml-responsibleai~=1.59.0->azureml-train-automl~=1.59.0->azureml-sdk[automl]) (8.18.1)\n",
            "Requirement already satisfied: jupyter-client>=6.1.12 in /anaconda/envs/automl-env/lib/python3.9/site-packages (from ipykernel>=6.22.0->responsibleai==0.36.0->azureml-responsibleai~=1.59.0->azureml-train-automl~=1.59.0->azureml-sdk[automl]) (7.4.9)\n",
            "Requirement already satisfied: jupyter-core!=5.0.*,>=4.12 in /anaconda/envs/automl-env/lib/python3.9/site-packages (from ipykernel>=6.22.0->responsibleai==0.36.0->azureml-responsibleai~=1.59.0->azureml-train-automl~=1.59.0->azureml-sdk[automl]) (5.7.2)\n",
            "Requirement already satisfied: matplotlib-inline>=0.1 in /anaconda/envs/automl-env/lib/python3.9/site-packages (from ipykernel>=6.22.0->responsibleai==0.36.0->azureml-responsibleai~=1.59.0->azureml-train-automl~=1.59.0->azureml-sdk[automl]) (0.1.7)\n",
            "Requirement already satisfied: nest-asyncio in /anaconda/envs/automl-env/lib/python3.9/site-packages (from ipykernel>=6.22.0->responsibleai==0.36.0->azureml-responsibleai~=1.59.0->azureml-train-automl~=1.59.0->azureml-sdk[automl]) (1.6.0)\n",
            "Requirement already satisfied: pyzmq>=24 in /anaconda/envs/automl-env/lib/python3.9/site-packages (from ipykernel>=6.22.0->responsibleai==0.36.0->azureml-responsibleai~=1.59.0->azureml-train-automl~=1.59.0->azureml-sdk[automl]) (26.4.0)\n",
            "Requirement already satisfied: traitlets>=5.4.0 in /anaconda/envs/automl-env/lib/python3.9/site-packages (from ipykernel>=6.22.0->responsibleai==0.36.0->azureml-responsibleai~=1.59.0->azureml-train-automl~=1.59.0->azureml-sdk[automl]) (5.14.3)\n",
            "Requirement already satisfied: jedi>=0.16 in /anaconda/envs/automl-env/lib/python3.9/site-packages (from ipython>=7.23.1->ipykernel>=6.22.0->responsibleai==0.36.0->azureml-responsibleai~=1.59.0->azureml-train-automl~=1.59.0->azureml-sdk[automl]) (0.19.2)\n",
            "Requirement already satisfied: prompt-toolkit<3.1.0,>=3.0.41 in /anaconda/envs/automl-env/lib/python3.9/site-packages (from ipython>=7.23.1->ipykernel>=6.22.0->responsibleai==0.36.0->azureml-responsibleai~=1.59.0->azureml-train-automl~=1.59.0->azureml-sdk[automl]) (3.0.51)\n",
            "Requirement already satisfied: stack-data in /anaconda/envs/automl-env/lib/python3.9/site-packages (from ipython>=7.23.1->ipykernel>=6.22.0->responsibleai==0.36.0->azureml-responsibleai~=1.59.0->azureml-train-automl~=1.59.0->azureml-sdk[automl]) (0.6.3)\n",
            "Requirement already satisfied: exceptiongroup in /anaconda/envs/automl-env/lib/python3.9/site-packages (from ipython>=7.23.1->ipykernel>=6.22.0->responsibleai==0.36.0->azureml-responsibleai~=1.59.0->azureml-train-automl~=1.59.0->azureml-sdk[automl]) (1.3.0)\n",
            "Requirement already satisfied: pexpect>4.3 in /anaconda/envs/automl-env/lib/python3.9/site-packages (from ipython>=7.23.1->ipykernel>=6.22.0->responsibleai==0.36.0->azureml-responsibleai~=1.59.0->azureml-train-automl~=1.59.0->azureml-sdk[automl]) (4.9.0)\n",
            "Requirement already satisfied: wcwidth in /anaconda/envs/automl-env/lib/python3.9/site-packages (from prompt-toolkit<3.1.0,>=3.0.41->ipython>=7.23.1->ipykernel>=6.22.0->responsibleai==0.36.0->azureml-responsibleai~=1.59.0->azureml-train-automl~=1.59.0->azureml-sdk[automl]) (0.2.13)\n",
            "Requirement already satisfied: parso<0.9.0,>=0.8.4 in /anaconda/envs/automl-env/lib/python3.9/site-packages (from jedi>=0.16->ipython>=7.23.1->ipykernel>=6.22.0->responsibleai==0.36.0->azureml-responsibleai~=1.59.0->azureml-train-automl~=1.59.0->azureml-sdk[automl]) (0.8.4)\n",
            "Requirement already satisfied: entrypoints in /anaconda/envs/automl-env/lib/python3.9/site-packages (from jupyter-client>=6.1.12->ipykernel>=6.22.0->responsibleai==0.36.0->azureml-responsibleai~=1.59.0->azureml-train-automl~=1.59.0->azureml-sdk[automl]) (0.4)\n",
            "Requirement already satisfied: platformdirs>=2.5 in /anaconda/envs/automl-env/lib/python3.9/site-packages (from jupyter-core!=5.0.*,>=4.12->ipykernel>=6.22.0->responsibleai==0.36.0->azureml-responsibleai~=1.59.0->azureml-train-automl~=1.59.0->azureml-sdk[automl]) (4.3.8)\n",
            "Requirement already satisfied: ptyprocess>=0.5 in /anaconda/envs/automl-env/lib/python3.9/site-packages (from pexpect>4.3->ipython>=7.23.1->ipykernel>=6.22.0->responsibleai==0.36.0->azureml-responsibleai~=1.59.0->azureml-train-automl~=1.59.0->azureml-sdk[automl]) (0.7.0)\n",
            "Requirement already satisfied: oauthlib>=3.0.0 in /anaconda/envs/automl-env/lib/python3.9/site-packages (from requests-oauthlib>=0.5.0->msrest<=0.7.1,>=0.5.1->azureml-core~=1.59.0->azureml-sdk[automl]) (3.2.2)\n",
            "Requirement already satisfied: backports.weakref in /anaconda/envs/automl-env/lib/python3.9/site-packages (from backports.tempfile->azureml-core~=1.59.0->azureml-sdk[automl]) (1.0.post1)\n",
            "Requirement already satisfied: termcolor in /anaconda/envs/automl-env/lib/python3.9/site-packages (from fire->keras2onnx<=1.6.0,>=1.4.0->azureml-automl-runtime~=1.59.0->azureml-train-automl~=1.59.0->azureml-sdk[automl]) (3.1.0)\n",
            "Requirement already satisfied: attrs>=22.2.0 in /anaconda/envs/automl-env/lib/python3.9/site-packages (from jsonschema->azureml-dataprep<5.2.0a,>=5.1.0a->azureml-dataset-runtime~=1.59.0->azureml-dataset-runtime[fuse]~=1.59.0->azureml-sdk[automl]) (25.3.0)\n",
            "Requirement already satisfied: jsonschema-specifications>=2023.03.6 in /anaconda/envs/automl-env/lib/python3.9/site-packages (from jsonschema->azureml-dataprep<5.2.0a,>=5.1.0a->azureml-dataset-runtime~=1.59.0->azureml-dataset-runtime[fuse]~=1.59.0->azureml-sdk[automl]) (2025.4.1)\n",
            "Requirement already satisfied: referencing>=0.28.4 in /anaconda/envs/automl-env/lib/python3.9/site-packages (from jsonschema->azureml-dataprep<5.2.0a,>=5.1.0a->azureml-dataset-runtime~=1.59.0->azureml-dataset-runtime[fuse]~=1.59.0->azureml-sdk[automl]) (0.36.2)\n",
            "Requirement already satisfied: rpds-py>=0.7.1 in /anaconda/envs/automl-env/lib/python3.9/site-packages (from jsonschema->azureml-dataprep<5.2.0a,>=5.1.0a->azureml-dataset-runtime~=1.59.0->azureml-dataset-runtime[fuse]~=1.59.0->azureml-sdk[automl]) (0.25.0)\n",
            "Requirement already satisfied: cachetools<6,>=5.0.0 in /anaconda/envs/automl-env/lib/python3.9/site-packages (from mlflow-skinny->azureml-mlflow~=1.59.0->azureml-train-automl-runtime~=1.59.0->azureml-train-automl~=1.59.0->azureml-sdk[automl]) (5.5.2)\n",
            "Requirement already satisfied: databricks-sdk<1,>=0.20.0 in /anaconda/envs/automl-env/lib/python3.9/site-packages (from mlflow-skinny->azureml-mlflow~=1.59.0->azureml-train-automl-runtime~=1.59.0->azureml-train-automl~=1.59.0->azureml-sdk[automl]) (0.53.0)\n",
            "Requirement already satisfied: fastapi<1 in /anaconda/envs/automl-env/lib/python3.9/site-packages (from mlflow-skinny->azureml-mlflow~=1.59.0->azureml-train-automl-runtime~=1.59.0->azureml-train-automl~=1.59.0->azureml-sdk[automl]) (0.115.12)\n",
            "Requirement already satisfied: gitpython<4,>=3.1.9 in /anaconda/envs/automl-env/lib/python3.9/site-packages (from mlflow-skinny->azureml-mlflow~=1.59.0->azureml-train-automl-runtime~=1.59.0->azureml-train-automl~=1.59.0->azureml-sdk[automl]) (3.1.44)\n",
            "Requirement already satisfied: opentelemetry-api<3,>=1.9.0 in /anaconda/envs/automl-env/lib/python3.9/site-packages (from mlflow-skinny->azureml-mlflow~=1.59.0->azureml-train-automl-runtime~=1.59.0->azureml-train-automl~=1.59.0->azureml-sdk[automl]) (1.33.1)\n",
            "Requirement already satisfied: opentelemetry-sdk<3,>=1.9.0 in /anaconda/envs/automl-env/lib/python3.9/site-packages (from mlflow-skinny->azureml-mlflow~=1.59.0->azureml-train-automl-runtime~=1.59.0->azureml-train-automl~=1.59.0->azureml-sdk[automl]) (1.33.1)\n",
            "Requirement already satisfied: pydantic<3,>=1.10.8 in /anaconda/envs/automl-env/lib/python3.9/site-packages (from mlflow-skinny->azureml-mlflow~=1.59.0->azureml-train-automl-runtime~=1.59.0->azureml-train-automl~=1.59.0->azureml-sdk[automl]) (2.11.4)\n",
            "Requirement already satisfied: sqlparse<1,>=0.4.0 in /anaconda/envs/automl-env/lib/python3.9/site-packages (from mlflow-skinny->azureml-mlflow~=1.59.0->azureml-train-automl-runtime~=1.59.0->azureml-train-automl~=1.59.0->azureml-sdk[automl]) (0.5.3)\n",
            "Requirement already satisfied: uvicorn<1 in /anaconda/envs/automl-env/lib/python3.9/site-packages (from mlflow-skinny->azureml-mlflow~=1.59.0->azureml-train-automl-runtime~=1.59.0->azureml-train-automl~=1.59.0->azureml-sdk[automl]) (0.34.2)\n",
            "Requirement already satisfied: google-auth~=2.0 in /anaconda/envs/automl-env/lib/python3.9/site-packages (from databricks-sdk<1,>=0.20.0->mlflow-skinny->azureml-mlflow~=1.59.0->azureml-train-automl-runtime~=1.59.0->azureml-train-automl~=1.59.0->azureml-sdk[automl]) (2.40.1)\n",
            "Requirement already satisfied: starlette<0.47.0,>=0.40.0 in /anaconda/envs/automl-env/lib/python3.9/site-packages (from fastapi<1->mlflow-skinny->azureml-mlflow~=1.59.0->azureml-train-automl-runtime~=1.59.0->azureml-train-automl~=1.59.0->azureml-sdk[automl]) (0.46.2)\n",
            "Requirement already satisfied: gitdb<5,>=4.0.1 in /anaconda/envs/automl-env/lib/python3.9/site-packages (from gitpython<4,>=3.1.9->mlflow-skinny->azureml-mlflow~=1.59.0->azureml-train-automl-runtime~=1.59.0->azureml-train-automl~=1.59.0->azureml-sdk[automl]) (4.0.12)\n",
            "Requirement already satisfied: smmap<6,>=3.0.1 in /anaconda/envs/automl-env/lib/python3.9/site-packages (from gitdb<5,>=4.0.1->gitpython<4,>=3.1.9->mlflow-skinny->azureml-mlflow~=1.59.0->azureml-train-automl-runtime~=1.59.0->azureml-train-automl~=1.59.0->azureml-sdk[automl]) (5.0.2)\n",
            "Requirement already satisfied: pyasn1-modules>=0.2.1 in /anaconda/envs/automl-env/lib/python3.9/site-packages (from google-auth~=2.0->databricks-sdk<1,>=0.20.0->mlflow-skinny->azureml-mlflow~=1.59.0->azureml-train-automl-runtime~=1.59.0->azureml-train-automl~=1.59.0->azureml-sdk[automl]) (0.4.2)\n",
            "Requirement already satisfied: rsa<5,>=3.1.4 in /anaconda/envs/automl-env/lib/python3.9/site-packages (from google-auth~=2.0->databricks-sdk<1,>=0.20.0->mlflow-skinny->azureml-mlflow~=1.59.0->azureml-train-automl-runtime~=1.59.0->azureml-train-automl~=1.59.0->azureml-sdk[automl]) (4.9.1)\n",
            "Requirement already satisfied: deprecated>=1.2.6 in /anaconda/envs/automl-env/lib/python3.9/site-packages (from opentelemetry-api<3,>=1.9.0->mlflow-skinny->azureml-mlflow~=1.59.0->azureml-train-automl-runtime~=1.59.0->azureml-train-automl~=1.59.0->azureml-sdk[automl]) (1.2.18)\n",
            "Requirement already satisfied: opentelemetry-semantic-conventions==0.54b1 in /anaconda/envs/automl-env/lib/python3.9/site-packages (from opentelemetry-sdk<3,>=1.9.0->mlflow-skinny->azureml-mlflow~=1.59.0->azureml-train-automl-runtime~=1.59.0->azureml-train-automl~=1.59.0->azureml-sdk[automl]) (0.54b1)\n",
            "Requirement already satisfied: annotated-types>=0.6.0 in /anaconda/envs/automl-env/lib/python3.9/site-packages (from pydantic<3,>=1.10.8->mlflow-skinny->azureml-mlflow~=1.59.0->azureml-train-automl-runtime~=1.59.0->azureml-train-automl~=1.59.0->azureml-sdk[automl]) (0.7.0)\n",
            "Requirement already satisfied: pydantic-core==2.33.2 in /anaconda/envs/automl-env/lib/python3.9/site-packages (from pydantic<3,>=1.10.8->mlflow-skinny->azureml-mlflow~=1.59.0->azureml-train-automl-runtime~=1.59.0->azureml-train-automl~=1.59.0->azureml-sdk[automl]) (2.33.2)\n",
            "Requirement already satisfied: typing-inspection>=0.4.0 in /anaconda/envs/automl-env/lib/python3.9/site-packages (from pydantic<3,>=1.10.8->mlflow-skinny->azureml-mlflow~=1.59.0->azureml-train-automl-runtime~=1.59.0->azureml-train-automl~=1.59.0->azureml-sdk[automl]) (0.4.0)\n",
            "Requirement already satisfied: anyio<5,>=3.6.2 in /anaconda/envs/automl-env/lib/python3.9/site-packages (from starlette<0.47.0,>=0.40.0->fastapi<1->mlflow-skinny->azureml-mlflow~=1.59.0->azureml-train-automl-runtime~=1.59.0->azureml-train-automl~=1.59.0->azureml-sdk[automl]) (4.9.0)\n",
            "Requirement already satisfied: sniffio>=1.1 in /anaconda/envs/automl-env/lib/python3.9/site-packages (from anyio<5,>=3.6.2->starlette<0.47.0,>=0.40.0->fastapi<1->mlflow-skinny->azureml-mlflow~=1.59.0->azureml-train-automl-runtime~=1.59.0->azureml-train-automl~=1.59.0->azureml-sdk[automl]) (1.3.1)\n",
            "Requirement already satisfied: h11>=0.8 in /anaconda/envs/automl-env/lib/python3.9/site-packages (from uvicorn<1->mlflow-skinny->azureml-mlflow~=1.59.0->azureml-train-automl-runtime~=1.59.0->azureml-train-automl~=1.59.0->azureml-sdk[automl]) (0.16.0)\n",
            "Requirement already satisfied: wrapt<2,>=1.10 in /anaconda/envs/automl-env/lib/python3.9/site-packages (from deprecated>=1.2.6->opentelemetry-api<3,>=1.9.0->mlflow-skinny->azureml-mlflow~=1.59.0->azureml-train-automl-runtime~=1.59.0->azureml-train-automl~=1.59.0->azureml-sdk[automl]) (1.17.2)\n",
            "Requirement already satisfied: executing>=1.2.0 in /anaconda/envs/automl-env/lib/python3.9/site-packages (from stack-data->ipython>=7.23.1->ipykernel>=6.22.0->responsibleai==0.36.0->azureml-responsibleai~=1.59.0->azureml-train-automl~=1.59.0->azureml-sdk[automl]) (2.2.0)\n",
            "Requirement already satisfied: asttokens>=2.1.0 in /anaconda/envs/automl-env/lib/python3.9/site-packages (from stack-data->ipython>=7.23.1->ipykernel>=6.22.0->responsibleai==0.36.0->azureml-responsibleai~=1.59.0->azureml-train-automl~=1.59.0->azureml-sdk[automl]) (3.0.0)\n",
            "Requirement already satisfied: pure-eval in /anaconda/envs/automl-env/lib/python3.9/site-packages (from stack-data->ipython>=7.23.1->ipykernel>=6.22.0->responsibleai==0.36.0->azureml-responsibleai~=1.59.0->azureml-train-automl~=1.59.0->azureml-sdk[automl]) (0.2.3)\n",
            "Requirement already satisfied: mpmath<1.4,>=1.1.0 in /anaconda/envs/automl-env/lib/python3.9/site-packages (from sympy->onnxruntime~=1.17.3->azureml-automl-runtime~=1.59.0->azureml-train-automl~=1.59.0->azureml-sdk[automl]) (1.3.0)\n",
            "Note: you may need to restart the kernel to use updated packages.\n"
          ]
        }
      ],
      "source": [
        "pip install azureml-sdk[automl]"
      ]
    },
    {
      "cell_type": "code",
      "execution_count": null,
      "metadata": {
        "gather": {
          "logged": 1747654167867
        },
        "jupyter": {
          "outputs_hidden": false,
          "source_hidden": false
        },
        "nteract": {
          "transient": {
            "deleting": false
          }
        }
      },
      "outputs": [],
      "source": [
        "from sklearn import datasets\n",
        "from azureml.core.experiment import Experiment\n",
        "from azureml.core.workspace import Workspace\n",
        "from azureml.train.automl import AutoMLConfig\n",
        "from azureml.core.dataset import Dataset\n",
        "from azureml.data.dataset_factory import TabularDatasetFactory\n",
        "from azureml.core.compute import AmlCompute\n",
        "from azureml.core.compute import ComputeTarget\n",
        "from azureml.core.compute_target import ComputeTargetException\n",
        "from azureml.pipeline.steps import AutoMLStep\n",
        "from azureml.widgets import RunDetails\n",
        "from azureml.core.environment import Environment \n",
        "from azureml.core.webservice import AciWebservice, Webservice\n",
        "from azureml.core.model import Model\n",
        "import pandas as pd\n",
        "from azureml.train.sklearn import SKLearn\n",
        "from azureml.train.hyperdrive.run import PrimaryMetricGoal\n",
        "from azureml.train.hyperdrive.policy import BanditPolicy\n",
        "from azureml.train.hyperdrive.sampling import RandomParameterSampling\n",
        "from azureml.train.hyperdrive.runconfig import HyperDriveConfig\n",
        "from azureml.train.hyperdrive.parameter_expressions import choice, uniform\n",
        "from azureml.core import Environment, ScriptRunConfig\n",
        "import os\n",
        "from azureml.core.model import InferenceConfig\n",
        "import logging\n",
        "import csv\n",
        "import numpy as np\n",
        "import pkg_resources\n",
        "import azureml.core\n",
        "from azureml.automl.runtime.onnx_convert import OnnxConverter\n",
        "from azureml.core import Workspace, Experiment, Model",
        "from azureml.core.compute import ComputeTarget, AmlCompute",
        "from azureml.core.compute_target import ComputeTargetException",
        "from azureml.core import Dataset",
        "import sys",
        "from azureml.core.model import InferenceConfig",
        "from azureml.core.webservice import AciWebservice, Webservice",
        "from azureml.core.model import Model",
        "from azureml.automl.core.shared import constant",

        "\n"
      ]
    },
    {
      "cell_type": "markdown",
      "metadata": {},
      "source": [
        "## \n",
        "\n",
        "### Overview\n",
        "TODO: In this markdown cell, give an overview of the  you are using. Also mention the task you will be performing.\n",
        "\n",
        "\n",
        "TODO: Get data. In the cell below, write code to access the data you will be using in this project. Remember that the  needs to be external."
      ]
    },
    {
      "cell_type": "code",
      "execution_count": 40,
      "metadata": {
        "gather": {
          "logged": 1747654172672
        },
        "jupyter": {
          "outputs_hidden": false,
          "source_hidden": false
        },
        "nteract": {
          "transient": {
            "deleting": false
          }
        }
      },
      "outputs": [
        {
          "name": "stdout",
          "output_type": "stream",
          "text": [
            "Workspace name: quick-starts-ws-281073\n",
            "Azure region: westeurope\n",
            "Subscription id: 48a74bb7-9950-4cc1-9caa-5d50f995cc55\n",
            "Resource group: aml-quickstarts-281073\n"
          ]
        }
      ],
      "source": [
        "from azureml.core import Workspace, Experiment\n",
        "\n",
        "project_folder = '.'\n",
        "\n",
        "Exp_name=\"Proj3AUTOML\"\n",
        "ws = Workspace.from_config()\n",
        "exp = Experiment(workspace=ws, name=Exp_name)\n",
        "\n",
        "print('Workspace name: ' + ws.name, \n",
        "      'Azure region: ' + ws.location, \n",
        "      'Subscription id: ' + ws.subscription_id, \n",
        "      'Resource group: ' + ws.resource_group, sep = '\\n')\n",
        "\n",
        "run = exp.start_logging()"
      ]
    },
    {
      "cell_type": "markdown",
      "metadata": {},
      "source": [
        "## AutoML Configuration\n",
        "\n",
        "TODO: Explain why you chose the automl settings and cofiguration you used below."
      ]
    },
    {
      "cell_type": "code",
      "execution_count": 41,
      "metadata": {
        "gather": {
          "logged": 1747654776170
        }
      },
      "outputs": [
        {
          "name": "stdout",
          "output_type": "stream",
          "text": [
            "Found existing cluster, use it.\n",
            "Succeeded.....................................................................................................................\n",
            "AmlCompute wait for completion finished\n",
            "\n",
            "Wait timeout has been reached\n",
            "Current provisioning state of AmlCompute is \"Succeeded\" and current node count is \"0\"\n"
          ]
        }
      ],
      "source": [
        "from azureml.core.compute import ComputeTarget, AmlCompute\n",
        "from azureml.core.compute_target import ComputeTargetException\n",
        "\n",
        "from azureml.core.compute import AmlCompute\n",
        "from azureml.core.compute import ComputeTarget\n",
        "from azureml.core.compute_target import ComputeTargetException\n",
        "\n",
        "# NOTE: update the cluster name to match the existing cluster\n",
        "# Choose a name for your CPU cluster\n",
        "amlcompute_cluster_name = \"ClusterML\"\n",
        "\n",
        "# Verify that cluster does not exist already\n",
        "try:\n",
        "    compute_target = ComputeTarget(workspace=ws, name=amlcompute_cluster_name)\n",
        "    print('Found existing cluster, use it.')\n",
        "except ComputeTargetException:\n",
        "    compute_config = AmlCompute.provisioning_configuration(vm_size='STANDARD_D2_V2',# for GPU, use \"STANDARD_NC6\"\n",
        "                                                           #vm_priority = 'lowpriority', # optional\n",
        "                                                           max_nodes=4)\n",
        "    compute_target = ComputeTarget.create(ws, amlcompute_cluster_name, compute_config)\n",
        "\n",
        "compute_target.wait_for_completion(show_output=True, min_node_count = 1, timeout_in_minutes = 10)\n",
        "# For a more detailed view of current AmlCompute status, use get_status()."
      ]
    },
    {
      "cell_type": "code",
      "execution_count": 42,
      "metadata": {
        "gather": {
          "logged": 1747654776392
        }
      },
      "outputs": [
        {
          "data": {
            "text/html": [
              "<div>\n",
              "<style scoped>\n",
              "    .dataframe tbody tr th:only-of-type {\n",
              "        vertical-align: middle;\n",
              "    }\n",
              "\n",
              "    .dataframe tbody tr th {\n",
              "        vertical-align: top;\n",
              "    }\n",
              "\n",
              "    .dataframe thead th {\n",
              "        text-align: right;\n",
              "    }\n",
              "</style>\n",
              "<table border=\"1\" class=\"dataframe\">\n",
              "  <thead>\n",
              "    <tr style=\"text-align: right;\">\n",
              "      <th></th>\n",
              "      <th>age</th>\n",
              "      <th>anaemia</th>\n",
              "      <th>creatinine_phosphokinase</th>\n",
              "      <th>diabetes</th>\n",
              "      <th>ejection_fraction</th>\n",
              "      <th>high_blood_pressure</th>\n",
              "      <th>platelets</th>\n",
              "      <th>serum_creatinine</th>\n",
              "      <th>serum_sodium</th>\n",
              "      <th>sex</th>\n",
              "      <th>smoking</th>\n",
              "      <th>time</th>\n",
              "      <th>DEATH_EVENT</th>\n",
              "    </tr>\n",
              "  </thead>\n",
              "  <tbody>\n",
              "    <tr>\n",
              "      <th>0</th>\n",
              "      <td>75.0</td>\n",
              "      <td>0</td>\n",
              "      <td>582</td>\n",
              "      <td>0</td>\n",
              "      <td>20</td>\n",
              "      <td>1</td>\n",
              "      <td>265000.00</td>\n",
              "      <td>1.9</td>\n",
              "      <td>130</td>\n",
              "      <td>1</td>\n",
              "      <td>0</td>\n",
              "      <td>4</td>\n",
              "      <td>1</td>\n",
              "    </tr>\n",
              "    <tr>\n",
              "      <th>1</th>\n",
              "      <td>55.0</td>\n",
              "      <td>0</td>\n",
              "      <td>7861</td>\n",
              "      <td>0</td>\n",
              "      <td>38</td>\n",
              "      <td>0</td>\n",
              "      <td>263358.03</td>\n",
              "      <td>1.1</td>\n",
              "      <td>136</td>\n",
              "      <td>1</td>\n",
              "      <td>0</td>\n",
              "      <td>6</td>\n",
              "      <td>1</td>\n",
              "    </tr>\n",
              "    <tr>\n",
              "      <th>2</th>\n",
              "      <td>65.0</td>\n",
              "      <td>0</td>\n",
              "      <td>146</td>\n",
              "      <td>0</td>\n",
              "      <td>20</td>\n",
              "      <td>0</td>\n",
              "      <td>162000.00</td>\n",
              "      <td>1.3</td>\n",
              "      <td>129</td>\n",
              "      <td>1</td>\n",
              "      <td>1</td>\n",
              "      <td>7</td>\n",
              "      <td>1</td>\n",
              "    </tr>\n",
              "    <tr>\n",
              "      <th>3</th>\n",
              "      <td>50.0</td>\n",
              "      <td>1</td>\n",
              "      <td>111</td>\n",
              "      <td>0</td>\n",
              "      <td>20</td>\n",
              "      <td>0</td>\n",
              "      <td>210000.00</td>\n",
              "      <td>1.9</td>\n",
              "      <td>137</td>\n",
              "      <td>1</td>\n",
              "      <td>0</td>\n",
              "      <td>7</td>\n",
              "      <td>1</td>\n",
              "    </tr>\n",
              "    <tr>\n",
              "      <th>4</th>\n",
              "      <td>65.0</td>\n",
              "      <td>1</td>\n",
              "      <td>160</td>\n",
              "      <td>1</td>\n",
              "      <td>20</td>\n",
              "      <td>0</td>\n",
              "      <td>327000.00</td>\n",
              "      <td>2.7</td>\n",
              "      <td>116</td>\n",
              "      <td>0</td>\n",
              "      <td>0</td>\n",
              "      <td>8</td>\n",
              "      <td>1</td>\n",
              "    </tr>\n",
              "  </tbody>\n",
              "</table>\n",
              "</div>"
            ],
            "text/plain": [
              "    age  anaemia  creatinine_phosphokinase  diabetes  ejection_fraction  \\\n",
              "0  75.0        0                       582         0                 20   \n",
              "1  55.0        0                      7861         0                 38   \n",
              "2  65.0        0                       146         0                 20   \n",
              "3  50.0        1                       111         0                 20   \n",
              "4  65.0        1                       160         1                 20   \n",
              "\n",
              "   high_blood_pressure  platelets  serum_creatinine  serum_sodium  sex  \\\n",
              "0                    1  265000.00               1.9           130    1   \n",
              "1                    0  263358.03               1.1           136    1   \n",
              "2                    0  162000.00               1.3           129    1   \n",
              "3                    0  210000.00               1.9           137    1   \n",
              "4                    0  327000.00               2.7           116    0   \n",
              "\n",
              "   smoking  time  DEATH_EVENT  \n",
              "0        0     4            1  \n",
              "1        0     6            1  \n",
              "2        1     7            1  \n",
              "3        0     7            1  \n",
              "4        0     8            1  "
            ]
          },
          "execution_count": 42,
          "metadata": {},
          "output_type": "execute_result"
        }
      ],
      "source": [
        "from train import clean_data\n",
        "import pandas as pd\n",
        "\n",
        "webpath = \"https://raw.githubusercontent.com/Jbjcool1997/proj3ML/refs/heads/main/heart_failure_clinical_records_dataset.csv\"\n",
        "df =pd.read_csv(webpath)\n",
        "df.head()\n"
      ]
    },
    {
      "cell_type": "code",
      "execution_count": 43,
      "metadata": {
        "gather": {
          "logged": 1747654776580
        }
      },
      "outputs": [],
      "source": [
        "Label_column = 'DEATH_EVENT'"
      ]
    },
    {
      "cell_type": "code",
      "execution_count": 44,
      "metadata": {
        "gather": {
          "logged": 1747654776847
        }
      },
      "outputs": [
        {
          "name": "stdout",
          "output_type": "stream",
          "text": [
            "{'infer_column_types': 'False', 'activity': 'to_pandas_dataframe'}\n",
            "{'infer_column_types': 'False', 'activity': 'to_pandas_dataframe', 'activityApp': 'TabularDataset'}\n"
          ]
        },
        {
          "data": {
            "text/html": [
              "<div>\n",
              "<style scoped>\n",
              "    .dataframe tbody tr th:only-of-type {\n",
              "        vertical-align: middle;\n",
              "    }\n",
              "\n",
              "    .dataframe tbody tr th {\n",
              "        vertical-align: top;\n",
              "    }\n",
              "\n",
              "    .dataframe thead th {\n",
              "        text-align: right;\n",
              "    }\n",
              "</style>\n",
              "<table border=\"1\" class=\"dataframe\">\n",
              "  <thead>\n",
              "    <tr style=\"text-align: right;\">\n",
              "      <th></th>\n",
              "      <th>age</th>\n",
              "      <th>creatinine_phosphokinase</th>\n",
              "      <th>ejection_fraction</th>\n",
              "      <th>platelets</th>\n",
              "      <th>serum_creatinine</th>\n",
              "      <th>serum_sodium</th>\n",
              "      <th>time</th>\n",
              "    </tr>\n",
              "  </thead>\n",
              "  <tbody>\n",
              "    <tr>\n",
              "      <th>count</th>\n",
              "      <td>299.000000</td>\n",
              "      <td>299.000000</td>\n",
              "      <td>299.000000</td>\n",
              "      <td>299.000000</td>\n",
              "      <td>299.00000</td>\n",
              "      <td>299.000000</td>\n",
              "      <td>299.000000</td>\n",
              "    </tr>\n",
              "    <tr>\n",
              "      <th>mean</th>\n",
              "      <td>60.833893</td>\n",
              "      <td>581.839465</td>\n",
              "      <td>38.083612</td>\n",
              "      <td>263358.029264</td>\n",
              "      <td>1.39388</td>\n",
              "      <td>136.625418</td>\n",
              "      <td>130.260870</td>\n",
              "    </tr>\n",
              "    <tr>\n",
              "      <th>std</th>\n",
              "      <td>11.894809</td>\n",
              "      <td>970.287881</td>\n",
              "      <td>11.834841</td>\n",
              "      <td>97804.236869</td>\n",
              "      <td>1.03451</td>\n",
              "      <td>4.412477</td>\n",
              "      <td>77.614208</td>\n",
              "    </tr>\n",
              "    <tr>\n",
              "      <th>min</th>\n",
              "      <td>40.000000</td>\n",
              "      <td>23.000000</td>\n",
              "      <td>14.000000</td>\n",
              "      <td>25100.000000</td>\n",
              "      <td>0.50000</td>\n",
              "      <td>113.000000</td>\n",
              "      <td>4.000000</td>\n",
              "    </tr>\n",
              "    <tr>\n",
              "      <th>25%</th>\n",
              "      <td>51.000000</td>\n",
              "      <td>116.500000</td>\n",
              "      <td>30.000000</td>\n",
              "      <td>212500.000000</td>\n",
              "      <td>0.90000</td>\n",
              "      <td>134.000000</td>\n",
              "      <td>73.000000</td>\n",
              "    </tr>\n",
              "    <tr>\n",
              "      <th>50%</th>\n",
              "      <td>60.000000</td>\n",
              "      <td>250.000000</td>\n",
              "      <td>38.000000</td>\n",
              "      <td>262000.000000</td>\n",
              "      <td>1.10000</td>\n",
              "      <td>137.000000</td>\n",
              "      <td>115.000000</td>\n",
              "    </tr>\n",
              "    <tr>\n",
              "      <th>75%</th>\n",
              "      <td>70.000000</td>\n",
              "      <td>582.000000</td>\n",
              "      <td>45.000000</td>\n",
              "      <td>303500.000000</td>\n",
              "      <td>1.40000</td>\n",
              "      <td>140.000000</td>\n",
              "      <td>203.000000</td>\n",
              "    </tr>\n",
              "    <tr>\n",
              "      <th>max</th>\n",
              "      <td>95.000000</td>\n",
              "      <td>7861.000000</td>\n",
              "      <td>80.000000</td>\n",
              "      <td>850000.000000</td>\n",
              "      <td>9.40000</td>\n",
              "      <td>148.000000</td>\n",
              "      <td>285.000000</td>\n",
              "    </tr>\n",
              "  </tbody>\n",
              "</table>\n",
              "</div>"
            ],
            "text/plain": [
              "              age  creatinine_phosphokinase  ejection_fraction      platelets  \\\n",
              "count  299.000000                299.000000         299.000000     299.000000   \n",
              "mean    60.833893                581.839465          38.083612  263358.029264   \n",
              "std     11.894809                970.287881          11.834841   97804.236869   \n",
              "min     40.000000                 23.000000          14.000000   25100.000000   \n",
              "25%     51.000000                116.500000          30.000000  212500.000000   \n",
              "50%     60.000000                250.000000          38.000000  262000.000000   \n",
              "75%     70.000000                582.000000          45.000000  303500.000000   \n",
              "max     95.000000               7861.000000          80.000000  850000.000000   \n",
              "\n",
              "       serum_creatinine  serum_sodium        time  \n",
              "count         299.00000    299.000000  299.000000  \n",
              "mean            1.39388    136.625418  130.260870  \n",
              "std             1.03451      4.412477   77.614208  \n",
              "min             0.50000    113.000000    4.000000  \n",
              "25%             0.90000    134.000000   73.000000  \n",
              "50%             1.10000    137.000000  115.000000  \n",
              "75%             1.40000    140.000000  203.000000  \n",
              "max             9.40000    148.000000  285.000000  "
            ]
          },
          "execution_count": 44,
          "metadata": {},
          "output_type": "execute_result"
        }
      ],
      "source": [
        "# Try to load the dataset from the Workspace. Otherwise, create it from the file\n",
        "# NOTE: update the key to match the dataset name\n",
        "found = False\n",
        "key = \"proj3data_ML\"\n",
        "description_text = \"heartfailure\"\n",
        "\n",
        "if key in ws.datasets.keys(): \n",
        "        found = True\n",
        "        dataset = ws.datasets[key] \n",
        "\n",
        "if not found:\n",
        "        # Create AML Dataset and register it into Workspace\n",
        "        example_data = 'https://raw.githubusercontent.com/Jbjcool1997/proj3ML/refs/heads/main/heart_failure_clinical_records_dataset.csv'\n",
        "        dataset = Dataset.Tabular.from_delimited_files(example_data)        \n",
        "        #Register Dataset in Workspace\n",
        "        dataset = dataset.register(workspace=ws,\n",
        "                                   name=key,\n",
        "                                   description=description_text)\n",
        "\n",
        "\n",
        "df = dataset.to_pandas_dataframe()\n",
        "df.describe()"
      ]
    },
    {
      "cell_type": "code",
      "execution_count": null,
      "metadata": {
        "gather": {
          "logged": 1747655268730
        }
      },
      "outputs": [],
      "source": [
        "from azureml.train.automl import AutoMLConfig\n",
        "\n",
        "\n",
        "automl_settings = {\n",
        "    \"experiment_timeout_minutes\": 20,\n",
        "    \"max_concurrent_iterations\": 5,\n",
        "    \"primary_metric_name\" : 'Accuracy'\n",
        "}\n",
        "automl_config = AutoMLConfig(compute_target=compute_target,\n",
        "                             task = \"classification\",\n",
        "                             training_data=dataset,\n",
        "                             label_column_name=Label_column,   \n",
        "                             path = project_folder,\n",
        "                             enable_early_stopping= True,\n",
        "                             featurization= 'auto',\n",
        "                             debug_log = \"automl_errors.log\",\n",
        "                              enable_onnx_compatible_models=True,\n",
        "                             **automl_settings\n",
        "                            )"
      ]
    },
    {
      "cell_type": "code",
      "execution_count": null,
      "metadata": {
        "gather": {
          "logged": 1747655269216
        }
      },
      "outputs": [],
      "source": [
        "from azureml.pipeline.core import PipelineData, TrainingOutput\n",
        "\n",
        "#ds = ws.get_default_datastore()\n",
        "#metrics_output_name = 'metrics_output'\n",
        "#best_model_output_name = 'best_model_output'\n",
        "\n",
        "#metrics_data = PipelineData(name='metrics_data',\n",
        "#                           datastore=ds,\n",
        "#                           pipeline_output_name=metrics_output_name,\n",
        "#                           training_output=TrainingOutput(type='Metrics'))\n",
        "#model_data = PipelineData(name='model_data',\n",
        "#                           datastore=ds,\n",
        "#                           pipeline_output_name=best_model_output_name,\n",
        "#                           training_output=TrainingOutput(type='Model'))"
      ]
    },
    {
      "cell_type": "code",
      "execution_count": null,
      "metadata": {
        "gather": {
          "logged": 1747655269522
        }
      },
      "outputs": [],
      "source": [
        "#automl_step = AutoMLStep(\n",
        "#    name='automl_module',\n",
        "#    automl_config=automl_config,\n",
        "#    config = automl_config,\n",
        "#    outputs=[metrics_data, model_data],\n",
        "#    allow_reuse=True)"
      ]
    },
    {
      "cell_type": "code",
      "execution_count": null,
      "metadata": {
        "gather": {
          "logged": 1747655270265
        }
      },
      "outputs": [
        {
          "name": "stderr",
          "output_type": "stream",
          "text": [
            "WARNING:root:Received unrecognized parameter primary_metric_name\n"
          ]
        }
      ],
      "source": [
        "#from azureml.pipeline.core import Pipeline\n",
        "#pipeline = Pipeline(\n",
        "#    description=\"pipeline_with_automlstep\",\n",
        "#    workspace=ws, \n",
        "#    steps=[automl_step])"
      ]
    },
    {
      "cell_type": "code",
      "execution_count": null,
      "metadata": {
        "gather": {
          "logged": 1747655278140
        }
      },
      "outputs": [
        {
          "name": "stdout",
          "output_type": "stream",
          "text": [
            "Created step automl_module [8efbe5d3][ada023dd-0f00-413b-8ece-583f67cef2e3], (This step will run and generate new outputs)\n",
            "Submitted PipelineRun 13334919-818e-4e51-9ce1-88a345a885be\n",
            "Link to Azure Machine Learning Portal: https://ml.azure.com/runs/13334919-818e-4e51-9ce1-88a345a885be?wsid=/subscriptions/48a74bb7-9950-4cc1-9caa-5d50f995cc55/resourcegroups/aml-quickstarts-281073/workspaces/quick-starts-ws-281073&tid=660b3398-b80e-49d2-bc5b-ac1dc93b5254\n"
          ]
        }
      ],
      "source": [
        "from azureml.core.experiment import Experiment\n",
        "automl_run = exp.submit(config=automl_config, show_output=True)"
      ]
    },
    {
      "cell_type": "code",
      "execution_count": null,
      "metadata": {
        "gather": {
          "logged": 1747655278550
        }
      },
      "outputs": [
        {
          "data": {
            "application/vnd.jupyter.widget-view+json": {
              "model_id": "3efd580f2fef4d67b9530086fe6a13c1",
              "version_major": 2,
              "version_minor": 0
            },
            "text/plain": [
              "_PipelineWidget(widget_settings={'childWidgetDisplay': 'popup', 'send_telemetry': False, 'log_level': 'INFO', …"
            ]
          },
          "metadata": {},
          "output_type": "display_data"
        },
        {
          "data": {
            "application/aml.mini.widget.v1": "\"NotImplementedError('_DatasetClient.get is no longer supported. deprecated.')\""
          },
          "metadata": {},
          "output_type": "display_data"
        },
        {
          "name": "stderr",
          "output_type": "stream",
          "text": [
            "ERROR:azureml.data._dataset_client:[NOT_SUPPORTED_API_USE_ATTEMPT] The [_DatasetClient.get] API has been deprecated and is no longer supported\n",
            "ERROR:azureml.data._dataset_client:[NOT_SUPPORTED_API_USE_ATTEMPT] The [_DatasetClient.get] API has been deprecated and is no longer supported\n",
            "ERROR:azureml.data._dataset_client:[NOT_SUPPORTED_API_USE_ATTEMPT] The [_DatasetClient.get] API has been deprecated and is no longer supported\n",
            "ERROR:azureml.data._dataset_client:[NOT_SUPPORTED_API_USE_ATTEMPT] The [_DatasetClient.get] API has been deprecated and is no longer supported\n"
          ]
        }
      ],
      "source": [
        "from collections.abc import Mapping\n",
        "from azureml.widgets import RunDetails\n",
        "\n",
        "RunDetails(automl_run).show()"
      ]
    },
    {
      "cell_type": "code",
      "execution_count": null,
      "metadata": {
        "gather": {
          "logged": 1747655193597
        }
      },
      "outputs": [
        {
          "name": "stdout",
          "output_type": "stream",
          "text": [
            "PipelineRunId: 13334919-818e-4e51-9ce1-88a345a885be\n",
            "Link to Azure Machine Learning Portal: https://ml.azure.com/runs/13334919-818e-4e51-9ce1-88a345a885be?wsid=/subscriptions/48a74bb7-9950-4cc1-9caa-5d50f995cc55/resourcegroups/aml-quickstarts-281073/workspaces/quick-starts-ws-281073&tid=660b3398-b80e-49d2-bc5b-ac1dc93b5254\n",
            "PipelineRun Status: NotStarted\n",
            "PipelineRun Status: Running\n",
            "\n",
            "\n",
            "StepRunId: 3aa522df-c1eb-4569-ba2b-4aa3dfef2971\n",
            "Link to Azure Machine Learning Portal: https://ml.azure.com/runs/3aa522df-c1eb-4569-ba2b-4aa3dfef2971?wsid=/subscriptions/48a74bb7-9950-4cc1-9caa-5d50f995cc55/resourcegroups/aml-quickstarts-281073/workspaces/quick-starts-ws-281073&tid=660b3398-b80e-49d2-bc5b-ac1dc93b5254\n",
            "StepRun( automl_module ) Status: NotStarted\n",
            "StepRun( automl_module ) Status: Running\n"
          ]
        }
      ],
      "source": [
        "automl_run.wait_for_completion()"
      ]
    },
    {
      "cell_type": "code",
      "execution_count": null,
      "metadata": {},
      "outputs": [],
      "source": [
        "###NEW get the best model\n",
        "\n",
        "best_automl_run, best_automl_model = automl_run.get_output(return_onnx_model=True)\n",
        "#best_run.register_model(model_name = 'automl_best_model.pkl', model_path='outputs/')\n",
        "\n",
        "print(best_automl_run)\n",
        "print(best_automl_model)\n",
        "\n",
        "#saving model in onnx format in outputs directory\n",
        "OnnxConverter.save_onnx_model(best_automl_model, file_path=\"./outputs/automl_model.onnx\")"
      ]
    },
    {
      "cell_type": "code",
      "execution_count": null,
      "metadata": {
        "gather": {
          "logged": 1747655193619
        },
        "jupyter": {
          "outputs_hidden": false,
          "source_hidden": false
        },
        "nteract": {
          "transient": {
            "deleting": false
          }
        }
      },
      "outputs": [],
      "source": [
        "best_run_properties = best_automl_run.get_properties()\n",
        "print(best_run_properties)"
      ]
    },
    {
      "cell_type": "code",
      "execution_count": null,
      "metadata": {
        "gather": {
          "logged": 1747655193645
        },
        "jupyter": {
          "outputs_hidden": false,
          "source_hidden": false
        },
        "nteract": {
          "transient": {
            "deleting": false
          }
        }
      },
      "outputs": [],
      "source": [
        "#Register and save the best model\n",
        "\n",
        "best_automl_run.download_file('./outputs/model.pkl', './outputs/capstone_automl_model.pkl')\n",
        "\n",
        "model = best_automl_run.register_model(model_name='automl_best_model', model_path='./outputs/model.pkl')\n",
        "\n",
        "print(model)\n",
        "\n",
        "#run.complete()"
      ]
    },
    {
      "cell_type": "markdown",
      "metadata": {},
      "source": [
        "## Run Details\n",
        "\n",
        "OPTIONAL: Write about the different models trained and their performance. Why do you think some models did better than others?\n",
        "\n",
        "TODO: In the cell below, use the `RunDetails` widget to show the different experiments."
      ]
    },
    {
      "cell_type": "code",
      "execution_count": null,
      "metadata": {},
      "outputs": [],
      "source": [
        "##### MODEL DEPLOYMENT\n",
        "\n",
        "#Obtaining CODA evirionment data used in run and saving it to directory\n",
        "best_automl_run.download_file(constants.CONDA_ENV_FILE_PATH, 'heart_dependencies.yml')\n",
        "\n",
        "environment = Environment.from_conda_specification('heart_dependencies', 'heart_dependencies.yml')\n",
        "inference_config = InferenceConfig(entry_script='score.py', environment=environment)\n",
        "\n",
        "service_name = 'proj3_best_automl_deploy'\n",
        "\n",
        "inference_config = InferenceConfig(entry_script='score.py', environment=environment)\n",
        "aci_config = AciWebservice.deploy_configuration(cpu_cores=1, memory_gb=1, auth_enabled=True, enable_app_insights=True)\n",
        "\n",
        "service = Model.deploy(workspace=ws,\n",
        "                          name=service_name,\n",
        "                          models=[model],\n",
        "                          inference_config=inference_config,\n",
        "                          deployment_config=aci_config,\n",
        "                          overwrite=True)\n",
        "service.wait_for_deployment(show_output=True)"
      ]
    },
    {
      "cell_type": "code",
      "execution_count": null,
      "metadata": {
        "gather": {
          "logged": 1747655193667
        },
        "jupyter": {
          "outputs_hidden": false,
          "source_hidden": false
        },
        "nteract": {
          "transient": {
            "deleting": false
          }
        }
      },
      "outputs": [],
      "source": [
        "print(service.state)"
      ]
    },
    {
      "cell_type": "markdown",
      "metadata": {},
      "source": [
        "## Best Model\n",
        "\n",
        "TODO: In the cell below, get the best model from the automl experiments and display all the properties of the model.\n",
        "\n"
      ]
    },
    {
      "cell_type": "code",
      "execution_count": null,
      "metadata": {
        "gather": {
          "logged": 1747655193689
        },
        "jupyter": {
          "outputs_hidden": false,
          "source_hidden": false
        },
        "nteract": {
          "transient": {
            "deleting": false
          }
        }
      },
      "outputs": [],
      "source": [
        "service.get_logs()"
      ]
    },
    {
      "cell_type": "code",
      "execution_count": null,
      "metadata": {
        "gather": {
          "logged": 1747655193713
        },
        "jupyter": {
          "outputs_hidden": false,
          "source_hidden": false
        },
        "nteract": {
          "transient": {
            "deleting": false
          }
        }
      },
      "outputs": [],
      "source": [
        "print(service.scoring_uri)"
      ]
    },
    {
      "cell_type": "markdown",
      "metadata": {},
      "source": [
        "## Model Deployment\n",
        "\n",
        "Remember you have to deploy only one of the two models you trained but you still need to register both the models. Perform the steps in the rest of this notebook only if you wish to deploy this model.\n",
        "\n",
        "TODO: In the cell below, register the model, create an inference config and deploy the model as a web service."
      ]
    },
    {
      "cell_type": "code",
      "execution_count": null,
      "metadata": {
        "gather": {
          "logged": 1747655193735
        },
        "jupyter": {
          "outputs_hidden": false,
          "source_hidden": false
        },
        "nteract": {
          "transient": {
            "deleting": false
          }
        }
      },
      "outputs": [],
      "source": [
        "import json\n",
        "\n",
        "data = {\"data\":\n",
        "        [\n",
        "          {\n",
        "            \"age\": 75,\n",
        "            \"anaemia\": 0,\n",
        "            \"creatinine_phosphokinase\": 582,\n",
        "            \"diabetes\": 0,\n",
        "            \"ejection_fraction\": 20,\n",
        "            \"high_blood_pressure\": 1,\n",
        "            \"platelets\": 265000,\n",
        "            \"serum_creatinine\": 1.9,\n",
        "            \"serum_sodium\": 130,\n",
        "            \"sex\": 1,\n",
        "            \"smoking\": 0,\n",
        "            \"time\": 4\n",
        "          },\n",
        "          {\n",
        "            \"age\": 25,\n",
        "            \"anaemia\": 1,\n",
        "            \"creatinine_phosphokinase\": 425,\n",
        "            \"diabetes\": 1,\n",
        "            \"ejection_fraction\": 50,\n",
        "            \"high_blood_pressure\": 1,\n",
        "            \"platelets\": 300000,\n",
        "            \"serum_creatinine\": 0.9,\n",
        "            \"serum_sodium\": 150,\n",
        "            \"sex\": 0,\n",
        "            \"smoking\": 1,\n",
        "            \"time\": 100\n",
        "          }\n",
        "      ]\n",
        "    }"
      ]
    },
    {
      "cell_type": "markdown",
      "metadata": {
        "collapsed": true,
        "gather": {
          "logged": 1598431657736
        },
        "jupyter": {
          "outputs_hidden": false,
          "source_hidden": false
        },
        "nteract": {
          "transient": {
            "deleting": false
          }
        }
      },
      "source": [
        "TODO: In the cell below, send a request to the web service you deployed to test it."
      ]
    },
    {
      "cell_type": "code",
      "execution_count": null,
      "metadata": {
        "gather": {
          "logged": 1747655193758
        },
        "jupyter": {
          "outputs_hidden": false,
          "source_hidden": false
        },
        "nteract": {
          "transient": {
            "deleting": false
          }
        }
      },
      "outputs": [],
      "source": [
        "print(service.get_logs())"
      ]
    },
    {
      "cell_type": "markdown",
      "metadata": {
        "collapsed": true,
        "gather": {
          "logged": 1598432765711
        },
        "jupyter": {
          "outputs_hidden": false,
          "source_hidden": false
        },
        "nteract": {
          "transient": {
            "deleting": false
          }
        }
      },
      "source": [
        "TODO: In the cell below, print the logs of the web service and delete the service"
      ]
    },
    {
      "cell_type": "code",
      "execution_count": null,
      "metadata": {
        "gather": {
          "logged": 1747655193836
        }
      },
      "outputs": [],
      "source": []
    },
    {
      "cell_type": "markdown",
      "metadata": {},
      "source": [
        "**Submission Checklist**\n",
        "- I have registered the model.\n",
        "- I have deployed the model with the best accuracy as a webservice.\n",
        "- I have tested the webservice by sending a request to the model endpoint.\n",
        "- I have deleted the webservice and shutdown all the computes that I have used.\n",
        "- I have taken a screenshot showing the model endpoint as active.\n",
        "- The project includes a file containing the environment details.\n"
      ]
    },
    {
      "cell_type": "markdown",
      "metadata": {},
      "source": []
    }
  ],
  "metadata": {
    "kernel_info": {
      "name": "automl-env"
    },
    "kernelspec": {
      "display_name": "automl-env",
      "language": "python",
      "name": "automl-env"
    },
    "language_info": {
      "codemirror_mode": {
        "name": "ipython",
        "version": 3
      },
      "file_extension": ".py",
      "mimetype": "text/x-python",
      "name": "python",
      "nbconvert_exporter": "python",
      "pygments_lexer": "ipython3",
      "version": "3.9.21"
    },
    "microsoft": {
      "host": {
        "AzureML": {
          "notebookHasBeenCompleted": true
        }
      },
      "ms_spell_check": {
        "ms_spell_check_language": "en"
      }
    },
    "nteract": {
      "version": "nteract-front-end@1.0.0"
    }
  },
  "nbformat": 4,
  "nbformat_minor": 2
}
